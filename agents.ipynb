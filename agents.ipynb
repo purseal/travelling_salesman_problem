{
 "cells": [
  {
   "cell_type": "markdown",
   "metadata": {},
   "source": [
    "# Распределение встреч между представителями"
   ]
  },
  {
   "cell_type": "markdown",
   "metadata": {},
   "source": [
    "Данный ноутбук содержит в себе три крупных блока:\n",
    "* Подготовка данных\n",
    "* Эвристика\n",
    "* Сохранение результат\n",
    "\n",
    "Ожидается, что доработки будут только во второй части.\n",
    "\n",
    "Метрика качества, которую требуется оптимизировать, реализована в функции `compute_all_metrics`.\n",
    "Финальная матрика состоит из двух слагаемых:\n",
    "* Суммарное время, потраченное представителями на дорогу\n",
    "* Сумма квадратов опозданий на встречи с весом 0.02"
   ]
  },
  {
   "cell_type": "markdown",
   "metadata": {},
   "source": [
    "Модель, используемая в данной задачу следующая:\n",
    "* Представитель начинает работу в офисе и отправляется из офиса в начало своего рабочего дня\n",
    "* В случае, если представитель приезжает на встречу раньше запланированного времени, он ожидает на одном месте начала встречи"
   ]
  },
  {
   "cell_type": "code",
   "execution_count": 1,
   "metadata": {
    "collapsed": true
   },
   "outputs": [],
   "source": [
    "import pandas as pd\n",
    "import random\n",
    "import numpy as np\n",
    "import time\n",
    "import copy"
   ]
  },
  {
   "cell_type": "markdown",
   "metadata": {},
   "source": [
    "## Подготовка данных"
   ]
  },
  {
   "cell_type": "markdown",
   "metadata": {},
   "source": [
    "Данные выглядят следующим образом:\n",
    "\n",
    "Информация о встречах находится в таблице **F_ACT.csv**\n",
    "* `ID` - уникальный id встречи\n",
    "* `station_id` - id станции метро\n",
    "* `SCENARIO_ID` - id сценария встречи. Необходим для определения длительности встречи проверки соответсвия навыкам представителя\n",
    "* `READY_TIME` - начало интервала встречи\n",
    "* `DUE_TIME` - окончание интервала встречи\n",
    "* `from_office` - время, необходимое на дорогу от офиса\n",
    "\n",
    "Длительность встреч **F_SCENARIO.csv**\n",
    "* `ID` - id сценария\n",
    "* `DURATION` - длительность встречи с данным сценарием\n",
    "\n",
    "Матрица расстояний **F_DISTANCE.csv**\n",
    "* `id1` - id первой встречи\n",
    "* `id2` - id второй встречи\n",
    "* `dist` - время, необходимое на дорогу от первой до второй встречи\n",
    "\n",
    "Время работы представителей **F_REAL_WORK.csv**\n",
    "* `agent_id` - id представителя\n",
    "* `SLOT_START` - начало рабочего дня представителя\n",
    "* `SLOT_END` - окончание рабочего дня представителя\n",
    "\n",
    "Скиллы представителей **F_SKILLS.csv**\n",
    "* `agent_id` - id представителя\n",
    "* `SCENARIO_ID` - id сценария, которым владеет данный представитель\n"
   ]
  },
  {
   "cell_type": "code",
   "execution_count": 2,
   "metadata": {},
   "outputs": [
    {
     "name": "stdout",
     "output_type": "stream",
     "text": [
      "len(agents) = 74\n",
      "6830 {'SLOT_START': 28800, 'SLOT_END': 61200}\n",
      "465 {'SLOT_START': 28800, 'SLOT_END': 61200}\n",
      "400 {'SLOT_START': 28800, 'SLOT_END': 61200}\n",
      "3720 {'SLOT_START': 28800, 'SLOT_END': 61200}\n",
      "673 {'SLOT_START': 28800, 'SLOT_END': 61200}\n"
     ]
    }
   ],
   "source": [
    "agents = pd.read_csv('data/F_REAL_WORK.csv', sep=';', index_col='agent_id').to_dict(orient='index')\n",
    "i = 0\n",
    "print('len(agents) =', len(agents))\n",
    "for id, agent in agents.items():\n",
    "    print(id, agent)\n",
    "    i += 1\n",
    "    if i == 5:\n",
    "        break"
   ]
  },
  {
   "cell_type": "code",
   "execution_count": 3,
   "metadata": {},
   "outputs": [
    {
     "name": "stdout",
     "output_type": "stream",
     "text": [
      "len(activities) = 1154\n",
      "3385646 {'station_id': 1, 'SCENARIO_ID': 30, 'READY_TIME': 43200, 'DUE_TIME': 50400, 'from_office': 3080}\n",
      "3385152 {'station_id': 1, 'SCENARIO_ID': 34, 'READY_TIME': 36000, 'DUE_TIME': 43200, 'from_office': 3080}\n",
      "3385097 {'station_id': 1, 'SCENARIO_ID': 30, 'READY_TIME': 54000, 'DUE_TIME': 61200, 'from_office': 3080}\n",
      "3385201 {'station_id': 1, 'SCENARIO_ID': 33, 'READY_TIME': 54000, 'DUE_TIME': 61200, 'from_office': 3080}\n",
      "3385084 {'station_id': 1, 'SCENARIO_ID': 30, 'READY_TIME': 64800, 'DUE_TIME': 72000, 'from_office': 3080}\n"
     ]
    }
   ],
   "source": [
    "activities = pd.read_csv('data/F_ACT.csv', sep=';', index_col='ID').to_dict(orient='index')\n",
    "i = 0\n",
    "print('len(activities) =', len(activities))\n",
    "for id, act in activities.items():\n",
    "    print(id, act)\n",
    "    i += 1\n",
    "    if i == 5:\n",
    "        break"
   ]
  },
  {
   "cell_type": "code",
   "execution_count": 4,
   "metadata": {},
   "outputs": [
    {
     "name": "stdout",
     "output_type": "stream",
     "text": [
      "len(skills_set) = 1427\n",
      "(529, 69)\n",
      "(2024, 43)\n",
      "(443, 32)\n",
      "(183, 34)\n",
      "(449, 74)\n"
     ]
    },
    {
     "data": {
      "text/html": [
       "<div>\n",
       "<style>\n",
       "    .dataframe thead tr:only-child th {\n",
       "        text-align: right;\n",
       "    }\n",
       "\n",
       "    .dataframe thead th {\n",
       "        text-align: left;\n",
       "    }\n",
       "\n",
       "    .dataframe tbody tr th {\n",
       "        vertical-align: top;\n",
       "    }\n",
       "</style>\n",
       "<table border=\"1\" class=\"dataframe\">\n",
       "  <thead>\n",
       "    <tr style=\"text-align: right;\">\n",
       "      <th></th>\n",
       "      <th>agent_id</th>\n",
       "      <th>SCENARIO_ID</th>\n",
       "    </tr>\n",
       "  </thead>\n",
       "  <tbody>\n",
       "    <tr>\n",
       "      <th>0</th>\n",
       "      <td>183</td>\n",
       "      <td>30</td>\n",
       "    </tr>\n",
       "    <tr>\n",
       "      <th>1</th>\n",
       "      <td>183</td>\n",
       "      <td>31</td>\n",
       "    </tr>\n",
       "    <tr>\n",
       "      <th>2</th>\n",
       "      <td>183</td>\n",
       "      <td>32</td>\n",
       "    </tr>\n",
       "    <tr>\n",
       "      <th>3</th>\n",
       "      <td>183</td>\n",
       "      <td>33</td>\n",
       "    </tr>\n",
       "    <tr>\n",
       "      <th>4</th>\n",
       "      <td>183</td>\n",
       "      <td>34</td>\n",
       "    </tr>\n",
       "  </tbody>\n",
       "</table>\n",
       "</div>"
      ],
      "text/plain": [
       "   agent_id  SCENARIO_ID\n",
       "0       183           30\n",
       "1       183           31\n",
       "2       183           32\n",
       "3       183           33\n",
       "4       183           34"
      ]
     },
     "execution_count": 4,
     "metadata": {},
     "output_type": "execute_result"
    }
   ],
   "source": [
    "skills = pd.read_csv('data/F_SKILLS.csv', sep=';')\n",
    "skills_set = set()\n",
    "for i in skills.itertuples():\n",
    "    skills_set.add((i[1], i[2]))\n",
    "i = 0\n",
    "print('len(skills_set) =', len(skills_set))\n",
    "for skill in skills_set:\n",
    "    print(skill)\n",
    "    i += 1\n",
    "    if i == 5:\n",
    "        break\n",
    "skills.head()"
   ]
  },
  {
   "cell_type": "code",
   "execution_count": 5,
   "metadata": {},
   "outputs": [
    {
     "name": "stdout",
     "output_type": "stream",
     "text": [
      "len(scenarios) = 60\n",
      "181 {'DURATION': 10}\n",
      "201 {'DURATION': 10}\n",
      "30 {'DURATION': 20}\n",
      "31 {'DURATION': 10}\n",
      "32 {'DURATION': 20}\n"
     ]
    }
   ],
   "source": [
    "scenarios = pd.read_csv('data/F_SCENARIO.csv', sep=';', index_col='ID').to_dict(orient='index')\n",
    "i = 0\n",
    "print('len(scenarios) =', len(scenarios))\n",
    "for id, scenario in scenarios.items():\n",
    "    print(id, scenario)\n",
    "    i += 1\n",
    "    if i == 5:\n",
    "        break"
   ]
  },
  {
   "cell_type": "code",
   "execution_count": 6,
   "metadata": {},
   "outputs": [
    {
     "data": {
      "text/html": [
       "<div>\n",
       "<style>\n",
       "    .dataframe thead tr:only-child th {\n",
       "        text-align: right;\n",
       "    }\n",
       "\n",
       "    .dataframe thead th {\n",
       "        text-align: left;\n",
       "    }\n",
       "\n",
       "    .dataframe tbody tr th {\n",
       "        vertical-align: top;\n",
       "    }\n",
       "</style>\n",
       "<table border=\"1\" class=\"dataframe\">\n",
       "  <thead>\n",
       "    <tr style=\"text-align: right;\">\n",
       "      <th></th>\n",
       "      <th></th>\n",
       "      <th>dist</th>\n",
       "    </tr>\n",
       "    <tr>\n",
       "      <th>id1</th>\n",
       "      <th>id2</th>\n",
       "      <th></th>\n",
       "    </tr>\n",
       "  </thead>\n",
       "  <tbody>\n",
       "    <tr>\n",
       "      <th rowspan=\"2\" valign=\"top\">3385891</th>\n",
       "      <th>3386028</th>\n",
       "      <td>3730</td>\n",
       "    </tr>\n",
       "    <tr>\n",
       "      <th>3385895</th>\n",
       "      <td>3730</td>\n",
       "    </tr>\n",
       "    <tr>\n",
       "      <th>3385788</th>\n",
       "      <th>3386028</th>\n",
       "      <td>3730</td>\n",
       "    </tr>\n",
       "    <tr>\n",
       "      <th>3386106</th>\n",
       "      <th>3386134</th>\n",
       "      <td>3540</td>\n",
       "    </tr>\n",
       "    <tr>\n",
       "      <th>3386108</th>\n",
       "      <th>3386134</th>\n",
       "      <td>3540</td>\n",
       "    </tr>\n",
       "  </tbody>\n",
       "</table>\n",
       "</div>"
      ],
      "text/plain": [
       "                 dist\n",
       "id1     id2          \n",
       "3385891 3386028  3730\n",
       "        3385895  3730\n",
       "3385788 3386028  3730\n",
       "3386106 3386134  3540\n",
       "3386108 3386134  3540"
      ]
     },
     "execution_count": 6,
     "metadata": {},
     "output_type": "execute_result"
    }
   ],
   "source": [
    "distance = pd.read_csv('data/F_DISTANCE.csv', sep=';', index_col=['id1', 'id2'])\n",
    "distance.head(5)"
   ]
  },
  {
   "cell_type": "code",
   "execution_count": 7,
   "metadata": {},
   "outputs": [
    {
     "name": "stdout",
     "output_type": "stream",
     "text": [
      "len(id_by_act) = 1154\n",
      "3385646 0\n",
      "3385152 1\n",
      "3385097 2\n",
      "3385201 3\n",
      "3385084 4\n"
     ]
    }
   ],
   "source": [
    "id_by_act = {act: i for i, act in enumerate(list(activities))}\n",
    "i = 0\n",
    "print('len(id_by_act) =', len(id_by_act))\n",
    "for id, act_ in id_by_act.items():\n",
    "    print(id, act_)\n",
    "    i += 1\n",
    "    if i == 5:\n",
    "        break"
   ]
  },
  {
   "cell_type": "code",
   "execution_count": 8,
   "metadata": {},
   "outputs": [],
   "source": [
    "distance_by_id = np.zeros((len(activities), len(activities)))"
   ]
  },
  {
   "cell_type": "code",
   "execution_count": 9,
   "metadata": {},
   "outputs": [
    {
     "name": "stdout",
     "output_type": "stream",
     "text": [
      "[[    0.  1558.  1800. ...,  1800.  1800.  1800.]\n",
      " [ 1558.     0.  1800. ...,  1800.  1800.  1800.]\n",
      " [ 1800.  1800.     0. ...,  1800.  1800.  1800.]\n",
      " ..., \n",
      " [ 1800.  1800.  1800. ...,     0.  1800.  1800.]\n",
      " [ 1800.  1800.  1800. ...,  1800.     0.  1800.]\n",
      " [ 1800.  1800.  1800. ...,  1800.  1800.     0.]]\n",
      "Wall time: 1min 17s\n"
     ]
    }
   ],
   "source": [
    "%%time\n",
    "for (i, j), row in distance.iterrows():\n",
    "    id_i = id_by_act[i]\n",
    "    id_j = id_by_act[j]\n",
    "    distance_by_id[id_i][id_j] = row['dist']\n",
    "    distance_by_id[id_j][id_i] = row['dist']\n",
    "print(distance_by_id)"
   ]
  },
  {
   "cell_type": "markdown",
   "metadata": {},
   "source": [
    "#### Определение доп.функций"
   ]
  },
  {
   "cell_type": "code",
   "execution_count": 10,
   "metadata": {
    "collapsed": true
   },
   "outputs": [],
   "source": [
    "def get_end_by_act(act):\n",
    "    return activities[act]['DUE_TIME']"
   ]
  },
  {
   "cell_type": "code",
   "execution_count": 11,
   "metadata": {
    "collapsed": true
   },
   "outputs": [],
   "source": [
    "def get_distance_between_act(from_act, to_act):\n",
    "    return distance_by_id[id_by_act[from_act]][id_by_act[to_act]]"
   ]
  },
  {
   "cell_type": "code",
   "execution_count": 12,
   "metadata": {
    "collapsed": true
   },
   "outputs": [],
   "source": [
    "def agent_have_skill(agent, skill):\n",
    "    return (agent, skill) in skills_set"
   ]
  },
  {
   "cell_type": "code",
   "execution_count": 13,
   "metadata": {
    "collapsed": true
   },
   "outputs": [],
   "source": [
    "def sort_solution(solution):\n",
    "    for agent in solution:\n",
    "        solution[agent].sort(key=get_end_by_act)\n",
    "    #return solution"
   ]
  },
  {
   "cell_type": "code",
   "execution_count": 14,
   "metadata": {
    "collapsed": true
   },
   "outputs": [],
   "source": [
    "def create_empty_solution(agents):\n",
    "    result = dict()\n",
    "    score = 0\n",
    "    for agent in agents:\n",
    "        result.update({agent: []})\n",
    "    return result"
   ]
  },
  {
   "cell_type": "code",
   "execution_count": 15,
   "metadata": {
    "collapsed": true
   },
   "outputs": [],
   "source": [
    "def get_random_solution():\n",
    "    solution = create_empty_solution(agents)\n",
    "    for act in activities:\n",
    "        skill = activities[act]['SCENARIO_ID']\n",
    "        random_agent = random.choice(list(skills[skills.SCENARIO_ID == skill]['agent_id']))\n",
    "        solution[random_agent].append(act)\n",
    "    sort_solution(solution)\n",
    "    return solution"
   ]
  },
  {
   "cell_type": "markdown",
   "metadata": {},
   "source": [
    "#### Подсчет метрик"
   ]
  },
  {
   "cell_type": "code",
   "execution_count": 16,
   "metadata": {
    "collapsed": true
   },
   "outputs": [],
   "source": [
    "def compute_total_travel_time(solution):\n",
    "    total_time = 0\n",
    "    for agent in solution:\n",
    "        if len(solution[agent]) == 0:\n",
    "            continue\n",
    "        first_act = solution[agent][0]\n",
    "        total_time += activities[first_act]['from_office']\n",
    "        for i in range(len(solution[agent]) - 1):\n",
    "            total_time += get_distance_between_act(solution[agent][i], solution[agent][i+1])\n",
    "    return total_time"
   ]
  },
  {
   "cell_type": "code",
   "execution_count": 17,
   "metadata": {
    "collapsed": true
   },
   "outputs": [],
   "source": [
    "def compute_start_times(solution):\n",
    "    activity_start = dict()\n",
    "    for agent in solution:\n",
    "        if len(solution[agent]) == 0:\n",
    "            continue\n",
    "        first_act = solution[agent][0]\n",
    "        activity_start[first_act] = max(activities[first_act]['READY_TIME'],\n",
    "                                        agents[agent]['SLOT_START'] + activities[first_act]['from_office'])\n",
    "        for i in range(1, len(solution[agent])):\n",
    "            current_act = solution[agent][i]\n",
    "            prev_act = solution[agent][i - 1]\n",
    "            dist = get_distance_between_act(prev_act, current_act)\n",
    "            skill_prev_act = activities[prev_act]['SCENARIO_ID']\n",
    "            activity_start[current_act] = max(activities[current_act]['READY_TIME'], \n",
    "                                              activity_start[prev_act] + scenarios[skill_prev_act]['DURATION'] * 60 + dist)\n",
    "    return activity_start"
   ]
  },
  {
   "cell_type": "code",
   "execution_count": 18,
   "metadata": {
    "collapsed": true
   },
   "outputs": [],
   "source": [
    "def compute_wait_time(solution):\n",
    "    activity_start = compute_start_times(solution)\n",
    "    total_wait = 0\n",
    "    for act, start_act in activity_start.items():\n",
    "        local_wait = max(0, start_act - activities[act]['DUE_TIME'])\n",
    "        total_wait += local_wait**2\n",
    "    return total_wait"
   ]
  },
  {
   "cell_type": "code",
   "execution_count": 19,
   "metadata": {
    "collapsed": true
   },
   "outputs": [],
   "source": [
    "def compute_all_metrics(solution):\n",
    "    total_travel = compute_total_travel_time(solution)\n",
    "    total_wait = compute_wait_time(solution)\n",
    "    return total_travel + 0.02 * total_wait"
   ]
  },
  {
   "cell_type": "markdown",
   "metadata": {},
   "source": [
    "### Эвристика"
   ]
  },
  {
   "cell_type": "markdown",
   "metadata": {},
   "source": [
    "Дальнейшую часть кода нужно самостоятельно дополнить.\n",
    "Ожидается, что будут написаны дополнительные способы мутации одного решения, изменение способа отбора решений в одном поколении.\n",
    "\n",
    "Ограничений на эвристику нет, можно делать все что угодно."
   ]
  },
  {
   "cell_type": "markdown",
   "metadata": {},
   "source": [
    "#### Случайные изменения"
   ]
  },
  {
   "cell_type": "code",
   "execution_count": 20,
   "metadata": {},
   "outputs": [],
   "source": [
    "def merge_greedly_by_time(solution, k):\n",
    "    candidates = random.choices(list(solution), k=k)\n",
    "    cand_acts = []\n",
    "    for e in candidates:\n",
    "        cand_acts.extend(solution[e])\n",
    "        solution[e] = []\n",
    "    cand_acts.sort(key=get_end_by_act)\n",
    "    for act in cand_acts:\n",
    "        best_candidate = -1\n",
    "        best_dist = -1\n",
    "        skill = activities[act]['SCENARIO_ID']\n",
    "        for candidate in candidates:\n",
    "            if not agent_have_skill(candidate, skill):\n",
    "                continue\n",
    "            if len(solution[candidate]) == 0:\n",
    "                p_dist = activities[act]['from_office']\n",
    "            else:\n",
    "                p_dist = get_distance_between_act(solution[candidate][-1], act)\n",
    "            if ((p_dist < best_dist) or (best_dist == -1)):\n",
    "                best_dist = p_dist\n",
    "                best_candidate = candidate\n",
    "        assert best_candidate != -1\n",
    "        solution[best_candidate].append(act)\n",
    "    return solution"
   ]
  },
  {
   "cell_type": "code",
   "execution_count": 21,
   "metadata": {
    "collapsed": true
   },
   "outputs": [],
   "source": [
    "def random_transfer(solution):\n",
    "    while True:\n",
    "        agent = random.choice(list(solution))\n",
    "        if len(solution[agent]) != 0:\n",
    "            break\n",
    "    act = random.choice(solution[agent])\n",
    "    skill = activities[act]['SCENARIO_ID']\n",
    "    solution[agent].remove(act)\n",
    "    new_agent = random.choice(skills[skills.SCENARIO_ID == skill].agent_id.values)\n",
    "    solution[new_agent].append(act)\n",
    "    sort_solution(solution)\n",
    "    #print(solution)\n",
    "    return solution"
   ]
  },
  {
   "cell_type": "markdown",
   "metadata": {},
   "source": [
    "#### Обмен встречами между наиболее загруженными агентами и наименее загруженными агентами "
   ]
  },
  {
   "cell_type": "code",
   "execution_count": 22,
   "metadata": {
    "collapsed": true
   },
   "outputs": [],
   "source": [
    "def get_max_charged_cand(solution, number):\n",
    "    '''Возвращает список наиболее загруженных агентов, то есть метрика качества которых наибольшая.'''\n",
    "    candidates = []\n",
    "    sol = copy.deepcopy(solution)\n",
    "    for _ in range(number):\n",
    "        max_charged_cand = list(sol.keys())[0]\n",
    "        max_metric = compute_all_metrics({max_charged_cand: sol[max_charged_cand]})\n",
    "        for agent in sol:\n",
    "            metric = compute_all_metrics({agent: sol[agent]})\n",
    "            if metric > max_metric:\n",
    "                max_charged_cand = agent\n",
    "                max_metric = metric\n",
    "        candidates.append(max_charged_cand)\n",
    "        sol.pop(max_charged_cand)\n",
    "    return candidates"
   ]
  },
  {
   "cell_type": "code",
   "execution_count": 23,
   "metadata": {
    "collapsed": true
   },
   "outputs": [],
   "source": [
    "def get_min_charged_cand(solution, number):\n",
    "    '''Возвращает список наименее загруженных агентов, то есть метрика качества которых наименьшая.'''\n",
    "    candidates = []\n",
    "    sol = copy.deepcopy(solution)\n",
    "    for _ in range(number):\n",
    "        min_charged_cand = list(sol.keys())[0]\n",
    "        min_metric = compute_all_metrics({min_charged_cand: sol[min_charged_cand]})\n",
    "        for agent in sol:\n",
    "            metric = compute_all_metrics({agent: sol[agent]})\n",
    "            if metric < min_metric:\n",
    "                min_charged_cand = agent\n",
    "                min_metric = metric\n",
    "        candidates.append(min_charged_cand)\n",
    "        sol.pop(min_charged_cand)\n",
    "    return candidates"
   ]
  },
  {
   "cell_type": "code",
   "execution_count": 24,
   "metadata": {
    "collapsed": true
   },
   "outputs": [],
   "source": [
    "def max_charged_crossover_min_charged(solution, k):\n",
    "    '''\n",
    "    Возвращает решение, в котором встречи распределены между k наиболее загруженными и k/3 наименее\n",
    "    загруженными агентами.\n",
    "    '''\n",
    "    candidates = get_max_charged_cand(solution, k - int(k / 3))\n",
    "    candidates.extend(get_min_charged_cand(solution, int(k / 3)))\n",
    "    cand_acts = []\n",
    "    for e in candidates:\n",
    "        cand_acts.extend(solution[e])\n",
    "        solution[e] = []\n",
    "    cand_acts.sort(key=get_end_by_act)\n",
    "    for act in cand_acts:\n",
    "        best_candidate = -1\n",
    "        best_dist = -1\n",
    "        skill = activities[act]['SCENARIO_ID']\n",
    "        for candidate in candidates:\n",
    "            if not agent_have_skill(candidate, skill):\n",
    "                continue\n",
    "            if len(solution[candidate]) == 0:\n",
    "                p_dist = activities[act]['from_office']\n",
    "            else:\n",
    "                p_dist = get_distance_between_act(solution[candidate][-1], act)\n",
    "            if ((p_dist < best_dist) or (best_dist == -1)):\n",
    "                best_dist = p_dist\n",
    "                best_candidate = candidate\n",
    "        assert best_candidate != -1\n",
    "        solution[best_candidate].append(act)\n",
    "    return solution"
   ]
  },
  {
   "cell_type": "code",
   "execution_count": 25,
   "metadata": {
    "collapsed": true
   },
   "outputs": [],
   "source": [
    "def worst_act_transfer(solution):\n",
    "    '''\n",
    "    Возвращает решение, в котором для наиболее загруженного агента была удалена встреча,\n",
    "    которая вносила наибольший вклад в его метрику качества. А затем она была добавлена агенту, \n",
    "    для которого вклад этой встречи в его метрику качества наименьший.\n",
    "    '''\n",
    "    max_agent = get_max_charged_cand(solution, 1)[0]\n",
    "    max_metric = -1\n",
    "    max_act = -1\n",
    "    for act in solution[max_agent]:        \n",
    "        acts = copy.deepcopy(solution[max_agent])\n",
    "        acts.remove(act)\n",
    "        metric = compute_all_metrics({max_agent: acts})\n",
    "        if metric > max_metric:\n",
    "            max_act = act\n",
    "            max_metric = metric\n",
    "    skill = activities[max_act]['SCENARIO_ID']\n",
    "    solution[max_agent].remove(max_act)\n",
    "    agents_with_skill = skills[skills.SCENARIO_ID == skill].agent_id.values\n",
    "    min_metric = max_metric\n",
    "    min_agent = -1\n",
    "    for agent in agents_with_skill:\n",
    "        acts = copy.deepcopy(solution[agent])\n",
    "        acts.append(max_act)\n",
    "        acts.sort(key=get_end_by_act)\n",
    "        metric = compute_all_metrics({agent: acts})\n",
    "        if metric < min_metric:\n",
    "            min_metric = metric\n",
    "            min_agent = agent\n",
    "    solution[min_agent].append(max_act)\n",
    "    return solution"
   ]
  },
  {
   "cell_type": "code",
   "execution_count": 26,
   "metadata": {},
   "outputs": [],
   "source": [
    "def merge_max_and_min_charged(solution, k):\n",
    "    '''\n",
    "    Возвращает решение, для которого между k/3 наиболее загруженными  и 2k/3 наименее загруженными\n",
    "    агентами были распределены встречи.\n",
    "    '''\n",
    "    candidates = get_max_charged_cand(solution, int(k / 3))\n",
    "    candidates.extend(get_min_charged_cand(solution, k - int(k / 3)))\n",
    "    cand_acts = []\n",
    "    for e in candidates:\n",
    "        cand_acts.extend(solution[e])\n",
    "        solution[e] = []\n",
    "    cand_acts.sort(key=get_end_by_act)\n",
    "    for act in cand_acts:\n",
    "        best_candidate = -1\n",
    "        best_dist = -1\n",
    "        skill = activities[act]['SCENARIO_ID']\n",
    "        for candidate in candidates:\n",
    "            if not agent_have_skill(candidate, skill):\n",
    "                continue\n",
    "            if len(solution[candidate]) == 0:\n",
    "                p_dist = activities[act]['from_office']\n",
    "            else:\n",
    "                p_dist = get_distance_between_act(solution[candidate][-1], act)\n",
    "            if ((p_dist < best_dist) or (best_dist == -1)):\n",
    "                best_dist = p_dist\n",
    "                best_candidate = candidate\n",
    "        assert best_candidate != -1\n",
    "        solution[best_candidate].append(act)\n",
    "    return solution"
   ]
  },
  {
   "cell_type": "markdown",
   "metadata": {},
   "source": [
    "### Кроссовер"
   ]
  },
  {
   "cell_type": "markdown",
   "metadata": {},
   "source": [
    "Для применения кроссовера между двумя решениями поколения было принято решение изменить структуру решений, которая позволила бы при скрещивании не потерять некоторые встречи. А именно - каждой встрече при помощи словаря поставим в соответствие агента. Так как на 1 встречу приезжает 1 агент, при таком представлении информация о встречах не потеряется. Те агенты, которые не попадут в такое представление решения, просто не имеют встреч. Это будет учитываться при возврате к исходной структуре решения."
   ]
  },
  {
   "cell_type": "code",
   "execution_count": 27,
   "metadata": {
    "collapsed": true
   },
   "outputs": [],
   "source": [
    "def get_solution_key_act(solution):\n",
    "    '''\n",
    "    Возвращает подаваемое на вход решение, в виде словаря, в котором ключом являются\n",
    "    встречи, а значением - агенты.    \n",
    "    '''\n",
    "    changed_solution = dict()\n",
    "    for agent, actions in solution.items():\n",
    "        for act in actions:\n",
    "            changed_solution[act] = agent\n",
    "    return changed_solution"
   ]
  },
  {
   "cell_type": "code",
   "execution_count": 28,
   "metadata": {
    "collapsed": true
   },
   "outputs": [],
   "source": [
    "def get_solution_key_agent(solution):\n",
    "    '''\n",
    "    Возвращает подаваемое на вход инвертированное решение, в виде словаря, в котором ключом являются\n",
    "    агенты, а значением - список встреч соответсвующего агента.    \n",
    "    '''\n",
    "    changed_solution = dict()\n",
    "    for act, agent in solution.items():\n",
    "        if agent not in changed_solution:\n",
    "            changed_solution[agent] = []\n",
    "        changed_solution[agent].append(act)\n",
    "    sort_solution(changed_solution)\n",
    "    for agent in agents:\n",
    "        if agent not in changed_solution:\n",
    "            changed_solution[agent] = []\n",
    "    return changed_solution"
   ]
  },
  {
   "cell_type": "markdown",
   "metadata": {},
   "source": [
    "#### One Point Crossover"
   ]
  },
  {
   "cell_type": "markdown",
   "metadata": {},
   "source": [
    "Встречи упорядочим по времени их окончания и соединим первую половину одного решения со второй половиной второго."
   ]
  },
  {
   "cell_type": "code",
   "execution_count": 29,
   "metadata": {
    "collapsed": true
   },
   "outputs": [],
   "source": [
    "def one_point_crossover(sol1, sol2):\n",
    "    parent1 = get_solution_key_act(sol1)\n",
    "    parent2 = get_solution_key_act(sol2)\n",
    "    actions = list(parent1.keys())\n",
    "    actions.sort(key=get_end_by_act)\n",
    "    child1 = dict()\n",
    "    child2 = dict()\n",
    "    for i in range(int(len(actions) / 2)):\n",
    "        child1[actions[i]] = parent1[actions[i]]\n",
    "        child2[actions[i]] = parent2[actions[i]]\n",
    "    for i in range(int(len(actions) / 2), len(actions)):\n",
    "        child1[actions[i]] = parent2[actions[i]]\n",
    "        child2[actions[i]] = parent1[actions[i]]\n",
    "    solution1 = get_solution_key_agent(child1)\n",
    "    solution2 = get_solution_key_agent(child2)\n",
    "    return [solution1, solution2]"
   ]
  },
  {
   "cell_type": "markdown",
   "metadata": {},
   "source": [
    "Выберем произвольную точку, относительно которой буудем производить обмен между решениями. "
   ]
  },
  {
   "cell_type": "code",
   "execution_count": 30,
   "metadata": {
    "collapsed": true
   },
   "outputs": [],
   "source": [
    "def one_random_point_crossover(sol1, sol2):\n",
    "    parent1 = get_solution_key_act(sol1)\n",
    "    parent2 = get_solution_key_act(sol2)\n",
    "    actions = list(parent1.keys())\n",
    "    actions.sort(key=get_end_by_act)\n",
    "    child1 = dict()\n",
    "    child2 = dict()\n",
    "    point = random.randint(1, len(actions) - 1)\n",
    "    for i in range(point):\n",
    "        child1[actions[i]] = parent1[actions[i]]\n",
    "        child2[actions[i]] = parent2[actions[i]]\n",
    "    for i in range(point, len(actions)):\n",
    "        child1[actions[i]] = parent2[actions[i]]\n",
    "        child2[actions[i]] = parent1[actions[i]]\n",
    "    solution1 = get_solution_key_agent(child1)\n",
    "    solution2 = get_solution_key_agent(child2)\n",
    "    return [solution1, solution2]"
   ]
  },
  {
   "cell_type": "markdown",
   "metadata": {},
   "source": [
    "Выберем заданное число произвольных точек, которые разбиывают два решения на несколько частей. Первых потомок составляется из нечетных частей первого родителя и четных частей второго родителя. Аналогично второй потомок составляется из четных частей первого родителя и нечетных частей второго родителя."
   ]
  },
  {
   "cell_type": "code",
   "execution_count": 31,
   "metadata": {
    "collapsed": true
   },
   "outputs": [],
   "source": [
    "def multi_random_point_crossover(sol1, sol2, n_points):\n",
    "    parent1 = get_solution_key_act(sol1)\n",
    "    parent2 = get_solution_key_act(sol2)\n",
    "    actions = list(parent1.keys())\n",
    "    actions.sort(key=get_end_by_act)\n",
    "    child1 = dict()\n",
    "    child2 = dict()\n",
    "    points = [0]\n",
    "    for i in range(n_points):\n",
    "        points.append(random.choice(list(range(1, len(actions) - 1))))\n",
    "    points = list(set(points))\n",
    "    points.sort()\n",
    "    points.append(None) \n",
    "    prev_point = 0\n",
    "    for n in range(len(points) - 1):\n",
    "        if n % 2 == 0:\n",
    "            if points[n + 1] != None:\n",
    "                for i in range(points[n], points[n + 1]):\n",
    "                    child1[actions[i]] = parent1[actions[i]]\n",
    "                    child2[actions[i]] = parent2[actions[i]]\n",
    "            else:\n",
    "                for i in range(points[n], len(actions)):\n",
    "                    child1[actions[i]] = parent1[actions[i]]\n",
    "                    child2[actions[i]] = parent2[actions[i]]                \n",
    "        else:            \n",
    "            if points[n + 1] != None:\n",
    "                for i in range(points[n], points[n + 1]):\n",
    "                    child1[actions[i]] = parent2[actions[i]]\n",
    "                    child2[actions[i]] = parent1[actions[i]]\n",
    "            else:\n",
    "                for i in range(points[n], len(actions)):\n",
    "                    child1[actions[i]] = parent2[actions[i]]\n",
    "                    child2[actions[i]] = parent1[actions[i]]  \n",
    "    solution1 = get_solution_key_agent(child1)\n",
    "    solution2 = get_solution_key_agent(child2)\n",
    "    return [solution1, solution2]"
   ]
  },
  {
   "cell_type": "markdown",
   "metadata": {},
   "source": [
    "#### Создание поколения"
   ]
  },
  {
   "cell_type": "code",
   "execution_count": 32,
   "metadata": {},
   "outputs": [],
   "source": [
    "generation_size = 20\n",
    "initial_generation = []\n",
    "for _ in range(generation_size):\n",
    "    one_solution = get_random_solution()\n",
    "    initial_generation.append((compute_all_metrics(one_solution), one_solution))"
   ]
  },
  {
   "cell_type": "code",
   "execution_count": 33,
   "metadata": {
    "collapsed": true
   },
   "outputs": [],
   "source": [
    "initial_generation.sort()"
   ]
  },
  {
   "cell_type": "code",
   "execution_count": 34,
   "metadata": {},
   "outputs": [
    {
     "data": {
      "text/plain": [
       "15375324356.58"
      ]
     },
     "execution_count": 34,
     "metadata": {},
     "output_type": "execute_result"
    }
   ],
   "source": [
    "initial_generation[0][0]"
   ]
  },
  {
   "cell_type": "markdown",
   "metadata": {},
   "source": [
    "#### Получение следующего поколения"
   ]
  },
  {
   "cell_type": "code",
   "execution_count": 35,
   "metadata": {
    "collapsed": true
   },
   "outputs": [],
   "source": [
    "labeled_res = dict()"
   ]
  },
  {
   "cell_type": "code",
   "execution_count": 36,
   "metadata": {
    "collapsed": true
   },
   "outputs": [],
   "source": [
    "labeled_res[0] = initial_generation[0][0]\n",
    "best_generation = initial_generation[0][1]"
   ]
  },
  {
   "cell_type": "code",
   "execution_count": 37,
   "metadata": {},
   "outputs": [
    {
     "name": "stdout",
     "output_type": "stream",
     "text": [
      "[12941990769.76, 13170566889.82, 13657198968.52, 13820805738.68, 14010543556.040001]\n",
      "[6916930106.46, 7071746882.3199997, 7173679562.8800001, 7746874764.8800001, 7849098729.04]\n",
      "[6046631884.6000004, 6282273917.5600004, 6528399591.1800003, 6540691173.2799997, 6615485388.6000004]\n",
      "[5243472266.4200001, 5267597167.1999998, 5291103254.5200005, 5317599654.6800003, 5319963637.2399998]\n",
      "[4803355451.4000006, 5021693349.3599997, 5047345961.1999998, 5085689833.4200001, 5243472266.4200001]\n",
      "best solution 4803355451.4\n"
     ]
    }
   ],
   "source": [
    "generation = copy.deepcopy(initial_generation)\n",
    "for i in range(50):\n",
    "    new_generation = copy.deepcopy(generation)\n",
    "    for g in generation:\n",
    "        new_solution = merge_greedly_by_time(copy.deepcopy(g[1]), 20)\n",
    "        new_generation.append((compute_all_metrics(new_solution), new_solution))\n",
    "    new_generation.sort(key=lambda t: t[0])\n",
    "    generation = new_generation[:generation_size]\n",
    "    if i % 10 == 0:\n",
    "        print([s[0] for s in generation][:5])\n",
    "merge_greedly_by_time_metric = generation[0][0]\n",
    "print('best solution', merge_greedly_by_time_metric)\n",
    "labeled_res[1] = merge_greedly_by_time_metric"
   ]
  },
  {
   "cell_type": "code",
   "execution_count": 38,
   "metadata": {},
   "outputs": [
    {
     "name": "stdout",
     "output_type": "stream",
     "text": [
      "error = False\n",
      "4803355451.4\n",
      "4803355451.4\n"
     ]
    }
   ],
   "source": [
    "is_error = False\n",
    "for sol in generation:\n",
    "    if sol[0] != compute_all_metrics(sol[1]):\n",
    "        is_error = True\n",
    "print('error =', is_error)\n",
    "sol1 = generation[0]\n",
    "print(sol1[0])\n",
    "print(compute_all_metrics(sol1[1]))"
   ]
  },
  {
   "cell_type": "code",
   "execution_count": 39,
   "metadata": {},
   "outputs": [
    {
     "name": "stdout",
     "output_type": "stream",
     "text": [
      "0 15375324356.6\n",
      "1 4803355451.4\n",
      "result became better = True\n"
     ]
    }
   ],
   "source": [
    "for key, value in labeled_res.items():\n",
    "    print(key, value)\n",
    "if min(labeled_res, key=labeled_res.get) == 1:\n",
    "    print('result became better =', True)\n",
    "    best_generation = generation\n",
    "else:\n",
    "    print('result became better =', False)"
   ]
  },
  {
   "cell_type": "markdown",
   "metadata": {},
   "source": [
    "Для каждого решения из поколения на каждой итерации произведем следующий отбор лучшего решения: распределим встречи между k наиболее загруженными и k/3 наименее загруженными агентами."
   ]
  },
  {
   "cell_type": "code",
   "execution_count": 40,
   "metadata": {},
   "outputs": [
    {
     "name": "stdout",
     "output_type": "stream",
     "text": [
      "[8643682071.8600006, 10380649679.219999, 10678843639.800001, 11128443586.0, 11642768743.16]\n",
      "[8643682071.8600006, 8643682071.8600006, 10380649679.219999, 10380649679.219999, 10602334403.16]\n",
      "[8643682071.8600006, 8643682071.8600006, 10380649679.219999, 10380649679.219999, 10602334403.16]\n",
      "[8643682071.8600006, 8643682071.8600006, 10380649679.219999, 10380649679.219999, 10602334403.16]\n",
      "[8643682071.8600006, 8643682071.8600006, 10380649679.219999, 10380649679.219999, 10602334403.16]\n",
      "best solution 8643682071.86\n"
     ]
    }
   ],
   "source": [
    "generation = copy.deepcopy(initial_generation)\n",
    "for i in range(50):\n",
    "    new_generation = copy.deepcopy(generation)\n",
    "    for g in generation:\n",
    "        new_solution = max_charged_crossover_min_charged(copy.deepcopy(g[1]), 20)\n",
    "        new_generation.append((compute_all_metrics(new_solution), new_solution))\n",
    "    new_generation.sort(key=lambda t: t[0])\n",
    "    generation = new_generation[:generation_size]\n",
    "    if i % 10 == 0:\n",
    "        print([s[0] for s in generation][:5])\n",
    "max_charged_crossover_min_charged_metric = generation[0][0]\n",
    "print('best solution', max_charged_crossover_min_charged_metric)\n",
    "labeled_res[2] = max_charged_crossover_min_charged_metric"
   ]
  },
  {
   "cell_type": "code",
   "execution_count": 41,
   "metadata": {},
   "outputs": [
    {
     "name": "stdout",
     "output_type": "stream",
     "text": [
      "0 15375324356.6\n",
      "1 4803355451.4\n",
      "2 8643682071.86\n",
      "result became better = False\n"
     ]
    }
   ],
   "source": [
    "for key, value in labeled_res.items():\n",
    "    print(key, value)\n",
    "if min(labeled_res, key=labeled_res.get) == 2:\n",
    "    print('result became better =', True)\n",
    "    best_generation = generation\n",
    "else:\n",
    "    print('result became better =', False)"
   ]
  },
  {
   "cell_type": "code",
   "execution_count": 42,
   "metadata": {
    "scrolled": false
   },
   "outputs": [],
   "source": [
    "def get_random_mutation(generat):\n",
    "    '''Возвращает решения, над которыми была произведена произвольная мутация.'''\n",
    "    new_generat = []\n",
    "    for i in range(len(generat)):\n",
    "        solution = generat[i][1]\n",
    "        new_solution = random_transfer(solution)\n",
    "        new_generat.append((compute_all_metrics(new_solution), new_solution))\n",
    "    new_generat.sort(key=lambda t: t[0])\n",
    "    #print('best solution', new_generat[0][0])\n",
    "    return new_generat"
   ]
  },
  {
   "cell_type": "markdown",
   "metadata": {},
   "source": [
    "Определим ниже распределяющую мутацию"
   ]
  },
  {
   "cell_type": "code",
   "execution_count": 43,
   "metadata": {
    "collapsed": true
   },
   "outputs": [],
   "source": [
    "def get_distributing_mutation(generat):\n",
    "    '''\n",
    "    Возвращает решения, для каждого из которых для наиболее загруженного агента была удалена встреча, \n",
    "    вносящая наибольший вклад в его метрику качества. А затем она была добавлена агенту, для которого \n",
    "    вклад этой встречи в его метрику качества наименьший. Назовем такую мутацию распределяющей.\n",
    "    '''\n",
    "    new_generat = []\n",
    "    for i in range(len(generat)):\n",
    "        solution = generat[i][1]\n",
    "        new_solution = worst_act_transfer(solution)\n",
    "        new_generat.append((compute_all_metrics(new_solution), new_solution))\n",
    "    new_generat.sort(key=lambda t: t[0])\n",
    "    #print('best solution', new_generat[0][0])\n",
    "    return new_generat"
   ]
  },
  {
   "cell_type": "markdown",
   "metadata": {},
   "source": [
    "Добавим 3 типа мутации в каждый этап формирования поколения. Мутации будут производится до отбрасывания худших решений, а добавляться после него для разнообразия генофонда."
   ]
  },
  {
   "cell_type": "code",
   "execution_count": 44,
   "metadata": {},
   "outputs": [
    {
     "name": "stdout",
     "output_type": "stream",
     "text": [
      "[13138600373.200001, 13378462464.9, 13535631158.34, 13540363953.780001, 13681727816.040001]\n",
      "[5932927687.7600002, 5967986168.6000004, 6014757272.1599998, 6015321564.2799997, 6015321564.2799997]\n",
      "[5097847070.4400005, 5133260907.96, 5139533150.4400005, 5142696820.4400005, 5146152689.8000002]\n",
      "[4005818066.8000002, 4020125083.0, 4043608109.3000002, 4050107454.8600001, 4051458513.0]\n",
      "[3700088517.6399999, 3721459585.6399999, 3749131251.8200002, 3752265472.9000001, 3760295222.9400001]\n",
      "best solution 3208763123.02\n"
     ]
    }
   ],
   "source": [
    "generation = copy.deepcopy(initial_generation[:])\n",
    "for i in range(50):\n",
    "    new_generation = copy.deepcopy(generation)\n",
    "    childs = []\n",
    "    for g in generation:\n",
    "        new_solution = merge_greedly_by_time(copy.deepcopy(g[1]), 20)\n",
    "        childs.append((compute_all_metrics(new_solution), new_solution))\n",
    "    childs.sort(key=lambda t: t[0])\n",
    "    \n",
    "    mutated_solutions = []\n",
    "    #произвольная мутация над 2 лучшими решениями\n",
    "    mutated_solutions.extend(get_random_mutation(copy.deepcopy(new_generation[:2])))\n",
    "    #произвольная мутация над 2 худшими решениями\n",
    "    #mutated_solutions.extend(get_random_mutation(new_generation[-2:]))\n",
    "    #распределяющая мутация над 2 лучшими решениями\n",
    "    mutated_solutions.extend(get_distributing_mutation(copy.deepcopy(new_generation[:2])))\n",
    "    #распределяющая мутация над 2 худшими решениями\n",
    "    mutated_solutions.extend(get_distributing_mutation(copy.deepcopy(new_generation[-2:])))\n",
    "    \n",
    "    generation = new_generation[:generation_size - (int)(generation_size / 4) - 9]\n",
    "    generation.extend(childs[:(int)(generation_size / 4)])\n",
    "    for sol in mutated_solutions:\n",
    "        generation.append(sol)\n",
    "        \n",
    "    generation.sort(key=lambda t: t[0])    \n",
    "    if i % 10 == 0:\n",
    "        print([s[0] for s in generation][:5])\n",
    "mutations_metric = generation[0][0]\n",
    "print('best solution', mutations_metric)\n",
    "labeled_res[3] = mutations_metric"
   ]
  },
  {
   "cell_type": "code",
   "execution_count": 45,
   "metadata": {},
   "outputs": [
    {
     "name": "stdout",
     "output_type": "stream",
     "text": [
      "error = False\n",
      "3208763123.02\n",
      "3208763123.02\n"
     ]
    }
   ],
   "source": [
    "is_error = False\n",
    "for sol in generation:\n",
    "    if sol[0] != compute_all_metrics(sol[1]):\n",
    "        is_error = True\n",
    "print('error =', is_error)\n",
    "sol1 = generation[0]\n",
    "print(sol1[0])\n",
    "print(compute_all_metrics(sol1[1]))"
   ]
  },
  {
   "cell_type": "code",
   "execution_count": 46,
   "metadata": {},
   "outputs": [
    {
     "name": "stdout",
     "output_type": "stream",
     "text": [
      "0 15375324356.6\n",
      "1 4803355451.4\n",
      "2 8643682071.86\n",
      "3 3208763123.02\n",
      "result became better = True\n"
     ]
    }
   ],
   "source": [
    "for key, value in labeled_res.items():\n",
    "    print(key, value)\n",
    "if min(labeled_res, key=labeled_res.get) == 3:\n",
    "    print('result became better =', True)\n",
    "    best_generation = generation\n",
    "else:\n",
    "    print('result became better =', False)"
   ]
  },
  {
   "cell_type": "markdown",
   "metadata": {},
   "source": [
    "Добавим кроссовер двух решений с одной точкой"
   ]
  },
  {
   "cell_type": "code",
   "execution_count": 47,
   "metadata": {},
   "outputs": [
    {
     "name": "stdout",
     "output_type": "stream",
     "text": [
      "[13183808440.68, 13411983551.380001, 13423721047.16, 13564159387.4, 13939840463.040001]\n",
      "[6185469099.7600002, 6326947567.8599997, 6398241927.6400003, 6398343186.1000004, 6492181834.3800001]\n",
      "[4987204595.9800005, 5016965041.5799999, 5036196796.4800005, 5036196796.4800005, 5036196796.4800005]\n",
      "[4248305172.6199999, 4256811202.48, 4268734778.48, 4272633950.6199999, 4272633950.6199999]\n",
      "[3954214539.4000001, 3958803724.8600001, 3978757281.8200002, 3978757281.8200002, 3978757381.8200002]\n",
      "best solution 3519173551.1\n"
     ]
    }
   ],
   "source": [
    "generation = copy.deepcopy(initial_generation[:])\n",
    "for i in range(50):\n",
    "    new_generation = copy.deepcopy(generation)\n",
    "    childs = []\n",
    "    for g in generation:\n",
    "        new_solution = merge_greedly_by_time(copy.deepcopy(g[1]), 20)\n",
    "        childs.append((compute_all_metrics(new_solution), new_solution))\n",
    "        \n",
    "    #скрещиваем лучшие 6 решений между собой произвольным образом\n",
    "    for _ in range(6):        \n",
    "        new_solutions = one_random_point_crossover(random.choice(new_generation[:6])[1],\n",
    "                                           random.choice(new_generation[:6])[1])\n",
    "        for new_solution in new_solutions:\n",
    "            childs.append((compute_all_metrics(new_solution), new_solution))\n",
    "    \n",
    "    #скрещиваем лучшие 6 решений с худшими 6 решениями произвольным образом\n",
    "    for _ in range(6):\n",
    "        new_solutions = one_random_point_crossover(random.choice(new_generation[:6])[1],\n",
    "                                           random.choice(new_generation[-6:])[1])\n",
    "        for new_solution in new_solutions:\n",
    "            childs.append((compute_all_metrics(new_solution), new_solution))\n",
    "    childs.sort(key=lambda t: t[0])\n",
    "    \n",
    "    mutated_solutions = []\n",
    "    #произвольная мутация над 2 лучшими решениями\n",
    "    mutated_solutions.extend(get_random_mutation(copy.deepcopy(new_generation[:2])))\n",
    "    #произвольная мутация над 2 худшими решениями\n",
    "    #mutated_solutions.extend(get_random_mutation(new_generation[-2:]))\n",
    "    #распределяющая мутация над 2 лучшими решениями\n",
    "    mutated_solutions.extend(get_distributing_mutation(copy.deepcopy(new_generation[:2])))\n",
    "    #распределяющая мутация над 2 худшими решениями\n",
    "    mutated_solutions.extend(get_distributing_mutation(copy.deepcopy(new_generation[-2:])))\n",
    "    \n",
    "    generation = new_generation[:generation_size - (int)(generation_size / 4) - 6]\n",
    "    generation.extend(childs[:(int)(generation_size / 4)])\n",
    "    for sol in mutated_solutions:\n",
    "        generation.append(sol)\n",
    "                \n",
    "    generation.sort(key=lambda t: t[0])\n",
    "    if i % 10 == 0:\n",
    "        print([s[0] for s in generation][:5])\n",
    "one_point_crossover_metric = generation[0][0]\n",
    "print('best solution', one_point_crossover_metric)\n",
    "labeled_res[4] = one_point_crossover_metric"
   ]
  },
  {
   "cell_type": "code",
   "execution_count": 48,
   "metadata": {},
   "outputs": [
    {
     "name": "stdout",
     "output_type": "stream",
     "text": [
      "error = False\n",
      "3519173551.1\n",
      "3519173551.1\n"
     ]
    }
   ],
   "source": [
    "is_error = False\n",
    "for sol in generation:\n",
    "    if sol[0] != compute_all_metrics(sol[1]):\n",
    "        is_error = True\n",
    "print('error =', is_error)\n",
    "sol1 = generation[0]\n",
    "print(sol1[0])\n",
    "print(compute_all_metrics(sol1[1]))"
   ]
  },
  {
   "cell_type": "code",
   "execution_count": 49,
   "metadata": {},
   "outputs": [
    {
     "name": "stdout",
     "output_type": "stream",
     "text": [
      "0 15375324356.6\n",
      "1 4803355451.4\n",
      "2 8643682071.86\n",
      "3 3208763123.02\n",
      "4 3519173551.1\n",
      "result became better = False\n"
     ]
    }
   ],
   "source": [
    "for key, value in labeled_res.items():\n",
    "    print(key, value)\n",
    "if min(labeled_res, key=labeled_res.get) == 4:\n",
    "    print('result became better =', True)\n",
    "    best_generation = generation\n",
    "else:\n",
    "    print('result became better =', False)"
   ]
  },
  {
   "cell_type": "markdown",
   "metadata": {},
   "source": [
    "Добавим кроссовер двух решений с несколькими точками "
   ]
  },
  {
   "cell_type": "code",
   "execution_count": 50,
   "metadata": {},
   "outputs": [
    {
     "name": "stdout",
     "output_type": "stream",
     "text": [
      "[13710365971.16, 13863941473.26, 14137141819.040001, 14312166369.66, 14623556931.120001]\n",
      "[6876043485.4400005, 6902348515.9800005, 7159305413.0600004, 7161615359.1400003, 7515131028.5799999]\n",
      "[4861063469.4200001, 4861063469.4200001, 4881077170.1999998, 4881077170.1999998, 4881077170.1999998]\n",
      "[4351581374.96, 4372660826.0, 4372902588.6400003, 4377688125.5200005, 4391714794.3400002]\n",
      "[4140756051.2200003, 4158867451.2400002, 4158867451.2400002, 4168580163.2400002, 4168580163.2400002]\n",
      "best solution 3978039006.72\n"
     ]
    }
   ],
   "source": [
    "generation = copy.deepcopy(initial_generation[:])\n",
    "for i in range(50):\n",
    "    new_generation = copy.deepcopy(generation)\n",
    "    childs = []\n",
    "    for g in generation:\n",
    "        new_solution = merge_greedly_by_time(copy.deepcopy(g[1]), 20)\n",
    "        childs.append((compute_all_metrics(new_solution), new_solution))\n",
    "        \n",
    "    #скрещиваем лучшие 6 решений между собой произвольным образом\n",
    "    for _ in range(6):        \n",
    "        #print(len(random.choice(generation[:6])[1]))\n",
    "        new_solutions = multi_random_point_crossover(random.choice(new_generation[:6])[1],\n",
    "                                                     random.choice(new_generation[:6])[1], \n",
    "                                                     4)\n",
    "        for new_solution in new_solutions:\n",
    "            childs.append((compute_all_metrics(new_solution), new_solution))\n",
    "    \n",
    "    #скрещиваем лучшие 6 решений с худшими 6 решениями произвольным образом\n",
    "    for _ in range(6):\n",
    "        #print(len(random.choice(generation[:6])[1]))\n",
    "        new_solutions = multi_random_point_crossover(random.choice(new_generation[:6])[1],\n",
    "                                                     random.choice(new_generation[-6:])[1],\n",
    "                                                     4)\n",
    "        for new_solution in new_solutions:\n",
    "            childs.append((compute_all_metrics(new_solution), new_solution))\n",
    "    childs.sort(key=lambda t: t[0])\n",
    "    \n",
    "    mutated_solutions = []\n",
    "    #произвольная мутация над 2 лучшими решениями\n",
    "    mutated_solutions.extend(get_random_mutation(copy.deepcopy(new_generation[:2])))\n",
    "    #произвольная мутация над 2 худшими решениями\n",
    "    #mutated_solutions.extend(get_random_mutation(new_generation[-2:]))\n",
    "    #распределяющая мутация над 2 лучшими решениями\n",
    "    mutated_solutions.extend(get_distributing_mutation(copy.deepcopy(new_generation[:2])))\n",
    "    #распределяющая мутация над 2 худшими решениями\n",
    "    mutated_solutions.extend(get_distributing_mutation(copy.deepcopy(new_generation[-2:])))\n",
    "    \n",
    "    generation = new_generation[:generation_size - (int)(generation_size / 4) - 6]\n",
    "    generation.extend(childs[:(int)(generation_size / 4)])\n",
    "    for sol in mutated_solutions:\n",
    "        generation.append(sol)\n",
    "                \n",
    "    generation.sort(key=lambda t: t[0])\n",
    "    if i % 10 == 0:\n",
    "        print([s[0] for s in generation][:5])\n",
    "multi_random_point_crossover_metric = generation[0][0]\n",
    "print('best solution', multi_random_point_crossover_metric)\n",
    "labeled_res[5] = multi_random_point_crossover_metric"
   ]
  },
  {
   "cell_type": "code",
   "execution_count": 51,
   "metadata": {},
   "outputs": [
    {
     "name": "stdout",
     "output_type": "stream",
     "text": [
      "error = False\n",
      "3978039006.72\n",
      "3978039006.72\n"
     ]
    }
   ],
   "source": [
    "is_error = False\n",
    "for sol in generation:\n",
    "    if sol[0] != compute_all_metrics(sol[1]):\n",
    "        is_error = True\n",
    "print('error =', is_error)\n",
    "sol1 = generation[0]\n",
    "print(sol1[0])\n",
    "print(compute_all_metrics(sol1[1]))"
   ]
  },
  {
   "cell_type": "code",
   "execution_count": 52,
   "metadata": {},
   "outputs": [
    {
     "name": "stdout",
     "output_type": "stream",
     "text": [
      "0 15375324356.6\n",
      "1 4803355451.4\n",
      "2 8643682071.86\n",
      "3 3208763123.02\n",
      "4 3519173551.1\n",
      "5 3978039006.72\n",
      "result became better = False\n"
     ]
    }
   ],
   "source": [
    "for key, value in labeled_res.items():\n",
    "    print(key, value)\n",
    "if min(labeled_res, key=labeled_res.get) == 5:\n",
    "    print('result became better =', True)\n",
    "    best_generation = generation\n",
    "else:\n",
    "    print('result became better =', False)"
   ]
  },
  {
   "cell_type": "markdown",
   "metadata": {},
   "source": [
    "Изменим выбор родителей для скрещивания и добавим распределение между наиболее загруженными и наименее загруженными агентами."
   ]
  },
  {
   "cell_type": "code",
   "execution_count": 53,
   "metadata": {},
   "outputs": [
    {
     "name": "stdout",
     "output_type": "stream",
     "text": [
      "[2, 2, 2, 2, 1, 6, 0, 6, 0, 6, 6, 0, 0, 0, 0, 0, 0, 0, 6, 6]\n",
      "[12194629510.02, 12270014731.300001, 12465030820.1, 12521524297.559999, 12950130025.800001]\n",
      "[2, 1, 1, 1, 2, 6, 0, 6, 6, 0, 6, 0, 0, 0, 0, 0, 0, 0, 6, 6]\n",
      "[2, 1, 1, 6, 6, 0, 2, 1, 6, 0, 6, 0, 0, 0, 0, 0, 0, 0, 6, 6]\n",
      "[1, 6, 0, 2, 2, 6, 2, 6, 6, 3, 0, 0, 0, 0, 0, 0, 0, 0, 6, 6]\n",
      "[1, 6, 1, 0, 6, 1, 2, 6, 3, 0, 6, 0, 0, 0, 0, 0, 0, 0, 6, 6]\n",
      "[2, 6, 0, 6, 3, 3, 3, 1, 6, 0, 6, 0, 0, 0, 0, 0, 0, 0, 6, 6]\n",
      "[1, 1, 1, 5, 1, 6, 0, 6, 6, 6, 0, 0, 0, 0, 0, 0, 0, 0, 6, 6]\n",
      "[2, 6, 6, 0, 6, 6, 0, 3, 1, 1, 1, 0, 0, 0, 0, 0, 0, 0, 6, 6]\n",
      "[2, 1, 6, 1, 6, 0, 2, 1, 6, 0, 0, 6, 0, 0, 0, 0, 0, 0, 6, 6]\n",
      "[0, 6, 6, 6, 2, 0, 2, 1, 6, 0, 0, 0, 3, 0, 0, 2, 0, 0, 6, 6]\n",
      "[2, 1, 6, 3, 0, 0, 0, 3, 3, 6, 0, 6, 0, 0, 6, 0, 0, 0, 6, 6]\n",
      "[5396489456.8000002, 5584080060.9000006, 5668392208.1000004, 5673307660.3800001, 5679651419.1000004]\n",
      "[6, 6, 0, 2, 2, 6, 0, 1, 3, 0, 0, 3, 0, 0, 0, 0, 0, 6, 6, 6]\n",
      "[6, 6, 6, 0, 3, 3, 3, 3, 3, 6, 0, 0, 0, 0, 0, 0, 0, 0, 6, 6]\n",
      "[6, 3, 5, 6, 6, 3, 0, 3, 3, 0, 0, 6, 0, 0, 0, 0, 0, 0, 6, 6]\n",
      "[6, 6, 3, 3, 3, 6, 0, 6, 0, 3, 0, 5, 0, 0, 0, 0, 0, 0, 6, 6]\n",
      "[6, 6, 3, 3, 3, 3, 6, 0, 0, 3, 0, 0, 0, 0, 6, 0, 0, 0, 6, 6]\n",
      "[1, 6, 6, 6, 3, 3, 3, 0, 0, 0, 0, 0, 3, 0, 6, 0, 0, 0, 6, 6]\n",
      "[6, 0, 6, 5, 5, 3, 3, 3, 6, 6, 0, 0, 0, 0, 0, 0, 0, 0, 6, 6]\n",
      "[3, 6, 0, 3, 6, 0, 3, 0, 6, 3, 6, 0, 3, 0, 0, 0, 0, 0, 6, 6]\n",
      "[1, 5, 0, 6, 6, 3, 6, 3, 0, 0, 0, 0, 3, 6, 0, 0, 0, 0, 6, 6]\n",
      "[3, 5, 6, 6, 5, 6, 5, 6, 0, 3, 0, 0, 0, 0, 0, 0, 0, 0, 6, 6]\n",
      "[4032526591.5799999, 4172413647.0, 4188425056.2400002, 4206899466.0799999, 4207241813.8800001]\n",
      "[6, 0, 3, 3, 3, 5, 5, 6, 6, 0, 6, 0, 0, 0, 0, 0, 0, 0, 6, 6]\n",
      "[1, 6, 0, 3, 6, 6, 6, 5, 0, 0, 0, 3, 3, 0, 0, 0, 0, 0, 6, 6]\n",
      "[0, 6, 6, 5, 6, 0, 3, 5, 5, 0, 0, 0, 3, 0, 0, 6, 0, 0, 6, 6]\n",
      "[1, 2, 6, 0, 3, 3, 6, 6, 0, 6, 0, 0, 3, 0, 0, 0, 0, 0, 6, 6]\n",
      "[6, 6, 0, 5, 2, 0, 2, 2, 3, 6, 6, 0, 0, 0, 0, 0, 0, 0, 6, 6]\n",
      "[6, 6, 3, 0, 3, 0, 0, 3, 3, 6, 0, 3, 6, 0, 0, 0, 0, 0, 6, 6]\n",
      "[6, 6, 6, 3, 3, 5, 3, 3, 0, 0, 0, 6, 0, 0, 0, 0, 0, 0, 6, 6]\n",
      "[6, 6, 5, 3, 3, 3, 6, 5, 0, 0, 0, 0, 0, 0, 0, 0, 0, 6, 6, 6]\n",
      "[6, 6, 3, 5, 3, 3, 0, 0, 6, 0, 3, 0, 0, 6, 0, 0, 0, 0, 6, 6]\n",
      "[6, 6, 3, 5, 5, 3, 3, 6, 6, 0, 0, 0, 0, 0, 0, 0, 0, 0, 6, 6]\n",
      "[3580380295.1199999, 3582259127.2000003, 3586717844.3600001, 3586717844.3600001, 3586717844.3600001]\n",
      "[6, 6, 6, 3, 3, 3, 3, 3, 0, 0, 0, 0, 0, 0, 0, 0, 0, 6, 6, 6]\n",
      "[1, 6, 6, 3, 6, 3, 0, 0, 3, 5, 0, 0, 0, 0, 0, 0, 0, 6, 6, 6]\n",
      "[6, 6, 0, 3, 6, 3, 6, 3, 3, 0, 0, 3, 0, 0, 0, 0, 0, 0, 6, 6]\n",
      "[6, 6, 6, 0, 3, 3, 0, 6, 0, 1, 0, 3, 3, 0, 0, 0, 0, 0, 6, 6]\n",
      "[6, 0, 3, 3, 3, 3, 3, 6, 0, 0, 6, 0, 6, 0, 0, 0, 0, 0, 6, 6]\n",
      "[6, 3, 0, 6, 5, 6, 5, 0, 0, 3, 3, 0, 0, 0, 0, 0, 0, 6, 6, 6]\n",
      "[3, 3, 3, 6, 0, 3, 3, 0, 0, 0, 0, 6, 6, 0, 0, 6, 0, 0, 6, 6]\n",
      "[3, 3, 0, 0, 0, 3, 3, 5, 0, 0, 0, 0, 0, 0, 6, 6, 6, 6, 6, 6]\n",
      "[0, 0, 3, 3, 3, 3, 3, 0, 0, 0, 0, 0, 0, 0, 6, 6, 6, 6, 6, 6]\n",
      "[5, 0, 0, 0, 0, 0, 0, 0, 3, 3, 3, 3, 0, 0, 6, 6, 6, 6, 6, 6]\n",
      "[3333217258.1800003, 3333217858.1800003, 3333217858.1800003, 3333217858.1800003, 3333217858.1800003]\n",
      "[6, 4, 5, 4, 4, 5, 0, 0, 0, 0, 0, 0, 0, 0, 0, 6, 6, 6, 6, 6]\n",
      "[6, 0, 0, 3, 3, 3, 0, 3, 0, 3, 0, 0, 0, 0, 0, 6, 6, 6, 6, 6]\n",
      "[6, 3, 3, 0, 3, 3, 0, 3, 0, 0, 0, 0, 0, 0, 0, 6, 6, 6, 6, 6]\n",
      "[6, 5, 0, 5, 6, 0, 3, 3, 3, 0, 6, 0, 0, 0, 0, 0, 6, 0, 6, 6]\n",
      "[5, 0, 3, 3, 3, 0, 3, 0, 0, 6, 6, 6, 0, 0, 0, 0, 0, 6, 6, 6]\n",
      "[6, 0, 3, 3, 0, 6, 0, 3, 3, 3, 6, 0, 0, 0, 0, 0, 0, 6, 6, 6]\n",
      "[0, 3, 5, 3, 5, 3, 6, 6, 0, 0, 0, 0, 0, 6, 0, 0, 0, 6, 6, 6]\n",
      "[6, 0, 0, 3, 3, 5, 5, 0, 3, 0, 0, 0, 0, 6, 6, 0, 6, 0, 6, 6]\n",
      "[6, 0, 3, 3, 3, 3, 3, 6, 0, 0, 0, 0, 0, 0, 0, 0, 6, 6, 6, 6]\n",
      "best solution 3197990013.22\n"
     ]
    }
   ],
   "source": [
    "generation = copy.deepcopy(initial_generation[:])\n",
    "for i in range(50):\n",
    "    new_generation = copy.deepcopy(generation)\n",
    "    for j in range(len(new_generation)):\n",
    "        if (len(new_generation[j]) == 2):\n",
    "            new_generation[j] = new_generation[j] + (0,)\n",
    "        else:\n",
    "            new_generation[j] = new_generation[j][:2] + (0,)\n",
    "    new_generation.sort(key=lambda t: t[0]) \n",
    "    childs = []\n",
    "    for g in generation:\n",
    "        new_solution = merge_greedly_by_time(copy.deepcopy(g[1]), 20)\n",
    "        childs.append((compute_all_metrics(new_solution), new_solution, 1))\n",
    "        \n",
    "    for g in generation:\n",
    "        new_solution = merge_max_and_min_charged(copy.deepcopy(g[1]), 20)\n",
    "        childs.append((compute_all_metrics(new_solution), new_solution, 2))    \n",
    "    \n",
    "    #скрещиваем лучшие 6 решений между собой произвольным образом\n",
    "    for _ in range(6):        \n",
    "        #print(len(random.choice(generation[:6])[1]))\n",
    "        new_solutions = multi_random_point_crossover(random.choice(new_generation[:6])[1],\n",
    "                                                     random.choice(new_generation[:6])[1], \n",
    "                                                     4)\n",
    "        for new_solution in new_solutions:\n",
    "            childs.append((compute_all_metrics(new_solution), new_solution, 3))\n",
    "    childs.sort(key=lambda t: t[0]) \n",
    "        \n",
    "    #берем 6 произвольных решений, выбираем из них лучшее и скрещиваем с 6\n",
    "    #аналогично выбранными решениями\n",
    "    for _ in range(6):      \n",
    "        cand_solutions1 = []\n",
    "        cand_solutions2 = []\n",
    "        for k in range(6):\n",
    "            cand_solutions1.append(random.choice(new_generation))\n",
    "            cand_solutions2.append(random.choice(new_generation))\n",
    "        best_solution1 = max(cand_solutions1, key=lambda x: x[0])[1]\n",
    "        best_solution2 = max(cand_solutions2, key=lambda x: x[0])[1]\n",
    "        new_solutions = multi_random_point_crossover(best_solution1, best_solution2, 4)\n",
    "        for new_solution in new_solutions:\n",
    "            childs.append((compute_all_metrics(new_solution), new_solution, 4))\n",
    "    \n",
    "    #берем 6 произвольных решений, выбираем из них лучшее и скрещиваем с 6\n",
    "    #аналогично выбранными худшими решениями\n",
    "    for _ in range(6):\n",
    "        cand_solutions1 = []\n",
    "        cand_solutions2 = []\n",
    "        for k in range(6):\n",
    "            cand_solutions1.append(random.choice(new_generation))\n",
    "            cand_solutions2.append(random.choice(new_generation))\n",
    "        best_solution1 = max(cand_solutions1, key=lambda x: x[0])[1]\n",
    "        worst_solution2 = min(cand_solutions2, key=lambda x: x[0])[1]\n",
    "        new_solutions = multi_random_point_crossover(best_solution1, worst_solution2, 4)\n",
    "        for new_solution in new_solutions:\n",
    "            childs.append((compute_all_metrics(new_solution), new_solution, 5))\n",
    "    childs.sort(key=lambda t: t[0])\n",
    "    \n",
    "    mutated_solutions = []\n",
    "    #произвольная мутация над 2 лучшими решениями\n",
    "    mutated_solutions.extend(get_random_mutation(copy.deepcopy(new_generation[:2])))\n",
    "    #произвольная мутация над 2 худшими решениями\n",
    "    #mutated_solutions.extend(get_random_mutation(new_generation[-2:]))\n",
    "    #распределяющая мутация над 2 лучшими решениями\n",
    "    mutated_solutions.extend(get_distributing_mutation(copy.deepcopy(new_generation[:2])))\n",
    "    #распределяющая мутация над 2 худшими решениями\n",
    "    mutated_solutions.extend(get_distributing_mutation(copy.deepcopy(new_generation[-2:])))\n",
    "    \n",
    "    generation = new_generation[:generation_size - (int)(generation_size / 4) - 6]    \n",
    "    \n",
    "    generation.extend(childs[:(int)(generation_size / 4)])\n",
    "    for sol in mutated_solutions:\n",
    "        generation.append(sol + (6,))\n",
    "                \n",
    "    generation.sort(key=lambda t: t[0])\n",
    "    print([x[2] for x in generation])\n",
    "    if i % 10 == 0:\n",
    "        print([s[0] for s in generation][:5])\n",
    "child_selection_metric1 = generation[0][0]\n",
    "print('best solution', child_selection_metric1)\n",
    "labeled_res[6] = child_selection_metric1"
   ]
  },
  {
   "cell_type": "code",
   "execution_count": 54,
   "metadata": {},
   "outputs": [
    {
     "name": "stdout",
     "output_type": "stream",
     "text": [
      "error = False\n",
      "3197990013.22\n",
      "3197990013.22\n"
     ]
    }
   ],
   "source": [
    "is_error = False\n",
    "for sol in generation:\n",
    "    if sol[0] != compute_all_metrics(sol[1]):\n",
    "        is_error = True\n",
    "print('error =', is_error)\n",
    "sol1 = generation[0]\n",
    "print(sol1[0])\n",
    "print(compute_all_metrics(sol1[1]))"
   ]
  },
  {
   "cell_type": "code",
   "execution_count": 55,
   "metadata": {},
   "outputs": [
    {
     "name": "stdout",
     "output_type": "stream",
     "text": [
      "0 15375324356.6\n",
      "1 4803355451.4\n",
      "2 8643682071.86\n",
      "3 3208763123.02\n",
      "4 3519173551.1\n",
      "5 3978039006.72\n",
      "6 3197990013.22\n",
      "result became better = True\n"
     ]
    }
   ],
   "source": [
    "for key, value in labeled_res.items():\n",
    "    print(key, value)\n",
    "if min(labeled_res, key=labeled_res.get) == 6:\n",
    "    print('result became better =', True)\n",
    "    best_generation = generation\n",
    "else:\n",
    "    print('result became better =', False)"
   ]
  },
  {
   "cell_type": "markdown",
   "metadata": {},
   "source": [
    "Изменим отбор потомков. В новую популяцию войдут потомки с наилучшими значениями метрики, но при этом по возможности каждая метрика встретится хотя бы один раз. То есть если уникальных метрик больше возможного количества потомков, то среди решений с одинаковой метрикой будет выбрано одно из них. Если уникальных метрик меньше возможного количесвто потомков, то сначала буду добавлены по 1 решению с каждым уникальным значеним метрики, а затем добавятся оставшиеся решения с лучшей метрикой."
   ]
  },
  {
   "cell_type": "code",
   "execution_count": 56,
   "metadata": {},
   "outputs": [
    {
     "name": "stdout",
     "output_type": "stream",
     "text": [
      "[13788236300.940001, 13890530794.800001, 14910378771.860001, 14943345872.32, 15030740428.16]\n",
      "[6628127710.6800003, 6686062438.0600004, 6686062438.0600004, 6692615640.6599998, 6727588882.1599998]\n",
      "[4550085964.6999998, 4550085964.6999998, 4567702949.8999996, 4572656928.6999998, 4590240424.6999998]\n",
      "[3880978553.54, 3887497527.1399999, 3888192821.1399999, 4075822584.5599999, 4079201157.8200002]\n",
      "[3673606403.7000003, 3673606510.7000003, 3686381841.0999999, 3686430960.46, 3686660424.46]\n",
      "best solution 3274088830.24\n"
     ]
    },
    {
     "data": {
      "text/html": [
       "<div>\n",
       "<style>\n",
       "    .dataframe thead tr:only-child th {\n",
       "        text-align: right;\n",
       "    }\n",
       "\n",
       "    .dataframe thead th {\n",
       "        text-align: left;\n",
       "    }\n",
       "\n",
       "    .dataframe tbody tr th {\n",
       "        vertical-align: top;\n",
       "    }\n",
       "</style>\n",
       "<table border=\"1\" class=\"dataframe\">\n",
       "  <thead>\n",
       "    <tr style=\"text-align: right;\">\n",
       "      <th></th>\n",
       "      <th>0</th>\n",
       "      <th>1</th>\n",
       "      <th>2</th>\n",
       "      <th>3</th>\n",
       "      <th>4</th>\n",
       "      <th>5</th>\n",
       "      <th>6</th>\n",
       "    </tr>\n",
       "  </thead>\n",
       "  <tbody>\n",
       "    <tr>\n",
       "      <th>0</th>\n",
       "      <td>9</td>\n",
       "      <td>0</td>\n",
       "      <td>0</td>\n",
       "      <td>5</td>\n",
       "      <td>0</td>\n",
       "      <td>0</td>\n",
       "      <td>6</td>\n",
       "    </tr>\n",
       "  </tbody>\n",
       "</table>\n",
       "</div>"
      ],
      "text/plain": [
       "   0  1  2  3  4  5  6\n",
       "0  9  0  0  5  0  0  6"
      ]
     },
     "execution_count": 56,
     "metadata": {},
     "output_type": "execute_result"
    }
   ],
   "source": [
    "generation = copy.deepcopy(initial_generation[:])\n",
    "for i in range(50):\n",
    "    new_generation = copy.deepcopy(generation)\n",
    "    for j in range(len(new_generation)):\n",
    "        if (len(new_generation[j]) == 2):\n",
    "            new_generation[j] = new_generation[j] + (0,)\n",
    "        else:\n",
    "            new_generation[j] = new_generation[j][:2] + (0,)\n",
    "    new_generation.sort(key=lambda t: t[0]) \n",
    "    childs = []\n",
    "    for g in new_generation:\n",
    "        new_solution = merge_greedly_by_time(copy.deepcopy(g[1]), 20)\n",
    "        childs.append((compute_all_metrics(new_solution), new_solution, 1))\n",
    "    for g in new_generation:\n",
    "        new_solution = merge_max_and_min_charged(copy.deepcopy(g[1]), 20)\n",
    "        childs.append((compute_all_metrics(new_solution), new_solution, 2))    \n",
    "        \n",
    "    childs = childs[:generation_size]\n",
    "    \n",
    "    #скрещиваем лучшие 6 решений между собой произвольным образом\n",
    "    for _ in range(6):        \n",
    "        #print(len(random.choice(generation[:6])[1]))\n",
    "        new_solutions = multi_random_point_crossover(random.choice(new_generation[:6])[1],\n",
    "                                                     random.choice(new_generation[:6])[1], \n",
    "                                                     4)\n",
    "        for new_solution in new_solutions:\n",
    "            childs.append((compute_all_metrics(new_solution), new_solution, 3))\n",
    "    childs.sort(key=lambda t: t[0]) \n",
    "        \n",
    "    #берем 6 произвольных решений, выбираем из них лучшее и скрещиваем с 6\n",
    "    #аналогично выбранными решениями\n",
    "    for _ in range(6):      \n",
    "        cand_solutions1 = []\n",
    "        cand_solutions2 = []\n",
    "        for k in range(6):\n",
    "            cand_solutions1.append(random.choice(new_generation))\n",
    "            cand_solutions2.append(random.choice(new_generation))\n",
    "        best_solution1 = max(cand_solutions1, key=lambda x: x[0])[1]\n",
    "        best_solution2 = max(cand_solutions2, key=lambda x: x[0])[1]\n",
    "        new_solutions = multi_random_point_crossover(best_solution1, best_solution2, 4)\n",
    "        for new_solution in new_solutions:\n",
    "            childs.append((compute_all_metrics(new_solution), new_solution, 4))\n",
    "    \n",
    "    #берем 6 произвольных решений, выбираем из них лучшее и скрещиваем с 6\n",
    "    #аналогично выбранными худшими решениями\n",
    "    for _ in range(6):\n",
    "        cand_solutions1 = []\n",
    "        cand_solutions2 = []\n",
    "        for k in range(6):\n",
    "            cand_solutions1.append(random.choice(new_generation))\n",
    "            cand_solutions2.append(random.choice(new_generation))\n",
    "        best_solution1 = max(cand_solutions1, key=lambda x: x[0])[1]\n",
    "        worst_solution2 = min(cand_solutions2, key=lambda x: x[0])[1]\n",
    "        new_solutions = multi_random_point_crossover(best_solution1, worst_solution2, 4)\n",
    "        for new_solution in new_solutions:\n",
    "            childs.append((compute_all_metrics(new_solution), new_solution, 5))\n",
    "    childs.sort(key=lambda t: t[0])\n",
    "    \n",
    "    mutated_solutions = []\n",
    "    #произвольная мутация над 2 лучшими решениями\n",
    "    mutated_solutions.extend(get_random_mutation(copy.deepcopy(new_generation[:2])))\n",
    "    #произвольная мутация над 2 худшими решениями\n",
    "    #mutated_solutions.extend(get_random_mutation(new_generation[-2:]))\n",
    "    #распределяющая мутация над 2 лучшими решениями\n",
    "    mutated_solutions.extend(get_distributing_mutation(copy.deepcopy(new_generation[:2])))\n",
    "    #распределяющая мутация над 2 худшими решениями\n",
    "    mutated_solutions.extend(get_distributing_mutation(copy.deepcopy(new_generation[-2:])))\n",
    "    \n",
    "    generation = new_generation[:generation_size - (int)(generation_size / 4) - 6]    \n",
    "    \n",
    "    #добавим в новую популяцию хотя бы 1 потомка с уникальным значением метрики\n",
    "    unique_fv = []\n",
    "    unique_fv_index = []\n",
    "    for k in range(len(childs)):\n",
    "        if (childs[k][0] not in unique_fv) & (len(unique_fv) < (int)(generation_size / 4)):\n",
    "            generation.append(childs[k])\n",
    "            unique_fv.append(childs[k][0])\n",
    "            unique_fv_index.append(k)\n",
    "    while len(unique_fv) < (int)(generation_size / 4):\n",
    "        print('not unique metriic')\n",
    "        for k in range(len(childs)):\n",
    "            if k not in unique_fv_index:\n",
    "                generation.append(childs[k])\n",
    "                unique_fv.append(childs[k][0])\n",
    "                \n",
    "    for sol in mutated_solutions:\n",
    "        generation.append(sol + (6,))\n",
    "                \n",
    "    generation.sort(key=lambda t: t[0])\n",
    "    \n",
    "    childs_count = np.array([[0, 0, 0, 0, 0, 0, 0]])\n",
    "    for sol in generation:\n",
    "        if sol[2] == 0:\n",
    "            childs_count[0][0] += 1\n",
    "        elif sol[2] == 1:\n",
    "            childs_count[0][1] += 1\n",
    "        elif sol[2] == 2:\n",
    "            childs_count[0][2]+=1\n",
    "        elif sol[2] == 3:\n",
    "            childs_count[0][3]+=1\n",
    "        elif sol[2] == 4:\n",
    "            childs_count[0][4]+=1\n",
    "        elif sol[2] == 5:\n",
    "            childs_count[0][5]+=1\n",
    "        else:\n",
    "            childs_count[0][6]+=1\n",
    "    tb = pd.DataFrame(childs_count, columns = ['0', '1', '2', '3', '4', '5', '6'])\n",
    "   # display(tb)\n",
    "    if i % 10 == 0:\n",
    "        print([s[0] for s in generation][:5])\n",
    "child_selection_metric1 = generation[0][0]\n",
    "print('best solution', child_selection_metric1)\n",
    "labeled_res[7] = child_selection_metric1\n",
    "tb.head(20)"
   ]
  },
  {
   "cell_type": "code",
   "execution_count": 57,
   "metadata": {},
   "outputs": [
    {
     "name": "stdout",
     "output_type": "stream",
     "text": [
      "error = False\n",
      "3274088830.24\n",
      "3274088830.24\n"
     ]
    }
   ],
   "source": [
    "is_error = False\n",
    "for sol in generation:\n",
    "    if sol[0] != compute_all_metrics(sol[1]):\n",
    "        is_error = True\n",
    "print('error =', is_error)\n",
    "sol1 = generation[0]\n",
    "print(sol1[0])\n",
    "print(compute_all_metrics(sol1[1]))"
   ]
  },
  {
   "cell_type": "code",
   "execution_count": 58,
   "metadata": {},
   "outputs": [
    {
     "name": "stdout",
     "output_type": "stream",
     "text": [
      "0 15375324356.6\n",
      "1 4803355451.4\n",
      "2 8643682071.86\n",
      "3 3208763123.02\n",
      "4 3519173551.1\n",
      "5 3978039006.72\n",
      "6 3197990013.22\n",
      "7 3274088830.24\n",
      "result became better = False\n"
     ]
    }
   ],
   "source": [
    "for key, value in labeled_res.items():\n",
    "    print(key, value)\n",
    "if min(labeled_res, key=labeled_res.get) == 7:\n",
    "    print('result became better =', True)\n",
    "    best_generation = generation\n",
    "else:\n",
    "    print('result became better =', False)"
   ]
  },
  {
   "cell_type": "markdown",
   "metadata": {},
   "source": [
    "Введем селекцию потомков, вероятность которой обратно пропоциональна его метрике."
   ]
  },
  {
   "cell_type": "code",
   "execution_count": 59,
   "metadata": {},
   "outputs": [],
   "source": [
    "def roulete_wheel_selection(generation, n):\n",
    "    metric = []\n",
    "    #generation.sort(reverse=True, key=lambda t: t[0])\n",
    "    for g in generation:\n",
    "        metric.append(g[0])\n",
    "    fv = [1 / x for x in metric]\n",
    "    fv_sum = sum(fv)\n",
    "    rel_fv = [x / fv_sum for x in fv]\n",
    "    probs = [sum(rel_fv[:i+1]) for i in range(len(rel_fv))]\n",
    "    # Draw new population\n",
    "    sols = []\n",
    "    #print(probs)\n",
    "    for _ in range(n):\n",
    "        r = random.random()\n",
    "        for (i, individual) in enumerate(generation):\n",
    "            if r <= probs[i]:\n",
    "                sols.append(individual)\n",
    "                break\n",
    "    return sols"
   ]
  },
  {
   "cell_type": "markdown",
   "metadata": {},
   "source": [
    "Введем селекцию потомков, вероятность которой пропорциональна его рангу при упорядочивании по возрастанию метрики."
   ]
  },
  {
   "cell_type": "code",
   "execution_count": 60,
   "metadata": {},
   "outputs": [],
   "source": [
    "def roulete_wheel_selection1(generation, n):\n",
    "    metric = []\n",
    "    #generation.sort(reverse=True, key=lambda t: t[0])\n",
    "    for g in generation:\n",
    "        metric.append(g[0])\n",
    "    unique_metric_count = len(set(metric)) +1\n",
    "    prev_m = -1\n",
    "    rang = []\n",
    "    for i in range(len(metric)):\n",
    "        #print(unique_metric_count)\n",
    "        rang.append(unique_metric_count)\n",
    "        if prev_m != metric[i]:\n",
    "            unique_metric_count -= 1\n",
    "            prev_m = metric[i]\n",
    "    #metric = [m - generation[0][0] for m in metric]\n",
    "    #fv = [1 / x for x in metric]\n",
    "    sum_rang = sum(rang)\n",
    "    rel_rang = [x / sum_rang for x in rang]\n",
    "    probs = [sum(rel_rang[:i+1]) for i in range(len(rel_rang))]\n",
    "    # Draw new population\n",
    "    sols = []\n",
    "    #print(probs)\n",
    "    for _ in range(n):\n",
    "        r = random.random()\n",
    "        for (i, individual) in enumerate(generation):\n",
    "            if r <= probs[i]:\n",
    "                sols.append(individual)\n",
    "                break\n",
    "    return sols"
   ]
  },
  {
   "cell_type": "code",
   "execution_count": 61,
   "metadata": {},
   "outputs": [
    {
     "name": "stdout",
     "output_type": "stream",
     "text": [
      "[2, 1, 2, 2, 6, 0, 6, 6, 0, 2, 6, 1, 0, 0, 0, 0, 0, 0, 6, 6]\n",
      "[13077169246.16, 14038535971.540001, 14155327025.720001, 14876448701.860001, 15276052648.58]\n",
      "[2, 6, 0, 6, 1, 6, 0, 6, 0, 2, 2, 0, 0, 0, 0, 0, 3, 5, 6, 6]\n",
      "[2, 6, 0, 6, 6, 6, 0, 0, 0, 3, 0, 0, 3, 0, 0, 5, 2, 4, 6, 6]\n",
      "[1, 6, 6, 0, 1, 6, 6, 0, 0, 0, 0, 0, 0, 0, 2, 3, 2, 2, 6, 6]\n",
      "[6, 0, 6, 6, 6, 0, 0, 3, 0, 3, 0, 0, 0, 0, 2, 2, 3, 1, 6, 6]\n",
      "[1, 6, 1, 0, 6, 6, 6, 0, 0, 0, 0, 0, 0, 0, 1, 4, 4, 1, 6, 6]\n",
      "[2, 1, 6, 0, 6, 1, 6, 4, 0, 0, 6, 0, 0, 0, 0, 0, 3, 1, 6, 6]\n",
      "[2, 6, 0, 6, 6, 0, 6, 0, 0, 0, 0, 0, 0, 5, 5, 4, 2, 2, 6, 6]\n",
      "[6, 6, 0, 2, 1, 6, 6, 0, 0, 0, 0, 0, 0, 1, 0, 2, 2, 2, 6, 6]\n",
      "[6, 3, 0, 6, 6, 6, 0, 0, 0, 2, 3, 3, 0, 0, 0, 0, 2, 1, 6, 6]\n",
      "[6, 6, 6, 0, 6, 0, 0, 0, 3, 0, 0, 1, 0, 1, 0, 3, 2, 4, 6, 6]\n",
      "[8191970972.5600004, 8251893918.54, 8287591154.1599998, 8289433642.5600004, 8349031046.1599998]\n",
      "[6, 6, 0, 6, 0, 6, 0, 0, 3, 0, 0, 0, 0, 3, 3, 5, 1, 2, 6, 6]\n",
      "[6, 6, 6, 0, 0, 6, 0, 0, 0, 0, 0, 0, 5, 5, 2, 2, 4, 2, 6, 6]\n",
      "[6, 6, 6, 0, 3, 0, 6, 0, 3, 3, 0, 0, 0, 0, 0, 1, 5, 5, 6, 6]\n",
      "[6, 6, 6, 0, 0, 6, 3, 3, 0, 3, 0, 0, 0, 0, 0, 5, 5, 4, 6, 6]\n",
      "[6, 6, 6, 0, 6, 0, 0, 3, 0, 0, 0, 0, 0, 3, 3, 1, 2, 5, 6, 6]\n",
      "[6, 6, 6, 0, 0, 0, 6, 0, 0, 0, 0, 0, 1, 4, 5, 5, 2, 4, 6, 6]\n",
      "[1, 6, 6, 6, 0, 6, 0, 0, 0, 0, 3, 0, 0, 0, 1, 1, 2, 2, 6, 6]\n",
      "[1, 6, 6, 6, 0, 6, 0, 0, 0, 0, 0, 0, 0, 3, 5, 2, 4, 4, 6, 6]\n",
      "[0, 6, 6, 6, 5, 6, 0, 0, 0, 0, 3, 0, 0, 0, 5, 5, 1, 2, 6, 6]\n",
      "[0, 6, 0, 6, 6, 0, 6, 0, 0, 0, 0, 0, 3, 5, 5, 2, 5, 6, 2, 6]\n",
      "[6892843861.9400005, 6903361272.5799999, 6915520486.3199997, 6915520486.3199997, 6917550424.3199997]\n",
      "[0, 3, 0, 0, 0, 6, 0, 6, 6, 0, 3, 0, 6, 0, 3, 1, 1, 2, 6, 6]\n",
      "[0, 0, 0, 3, 5, 0, 0, 0, 6, 6, 0, 6, 0, 5, 6, 1, 1, 5, 6, 6]\n",
      "[1, 0, 0, 0, 0, 0, 0, 0, 0, 6, 6, 6, 6, 5, 5, 4, 2, 5, 6, 6]\n",
      "[6, 0, 6, 6, 0, 0, 3, 3, 0, 0, 0, 0, 0, 6, 1, 5, 1, 6, 1, 6]\n",
      "[3, 6, 0, 6, 0, 6, 0, 6, 0, 0, 0, 0, 0, 3, 2, 2, 4, 1, 6, 6]\n",
      "[1, 6, 0, 6, 6, 6, 0, 0, 0, 0, 0, 0, 0, 3, 5, 2, 1, 1, 6, 6]\n",
      "[1, 6, 0, 0, 6, 0, 0, 6, 6, 0, 0, 0, 0, 1, 5, 5, 1, 2, 6, 6]\n",
      "[6, 6, 0, 5, 6, 0, 6, 0, 0, 0, 0, 0, 0, 3, 2, 2, 4, 5, 6, 6]\n",
      "[6, 6, 0, 0, 6, 0, 6, 0, 3, 0, 0, 0, 0, 3, 1, 2, 5, 2, 6, 6]\n",
      "[6, 3, 6, 6, 0, 6, 0, 3, 0, 0, 0, 3, 0, 0, 0, 2, 1, 2, 6, 6]\n",
      "[6074542733.3599997, 6084835386.1599998, 6090519542.96, 6091062068.1599998, 6116506183.9400005]\n",
      "[6, 6, 0, 3, 0, 0, 0, 6, 6, 0, 0, 0, 0, 1, 2, 1, 1, 1, 6, 6]\n",
      "[6, 6, 0, 6, 0, 0, 0, 0, 0, 0, 0, 3, 6, 5, 1, 1, 2, 4, 6, 6]\n",
      "[0, 3, 6, 6, 0, 0, 6, 0, 3, 0, 0, 6, 0, 0, 5, 1, 4, 2, 6, 6]\n",
      "[6, 6, 0, 0, 3, 0, 0, 6, 6, 0, 3, 0, 0, 0, 4, 4, 2, 2, 6, 6]\n",
      "[0, 3, 6, 0, 0, 0, 0, 0, 6, 6, 6, 0, 0, 5, 5, 5, 5, 1, 6, 6]\n",
      "[6, 6, 0, 0, 0, 0, 0, 0, 0, 0, 6, 6, 3, 3, 1, 1, 1, 1, 6, 6]\n",
      "[0, 6, 0, 0, 0, 6, 0, 6, 3, 0, 0, 0, 6, 5, 1, 4, 6, 5, 5, 6]\n",
      "[6, 6, 6, 0, 0, 6, 0, 0, 0, 0, 0, 0, 3, 1, 1, 2, 1, 6, 6, 1]\n",
      "[6, 6, 6, 0, 0, 6, 0, 0, 0, 0, 0, 0, 5, 2, 2, 5, 2, 4, 6, 6]\n",
      "[6, 6, 6, 3, 3, 6, 0, 0, 3, 0, 0, 0, 0, 0, 0, 5, 2, 2, 6, 6]\n",
      "[5761203142.6800003, 5764131854.6800003, 5781353450.54, 5799047842.3400002, 5799047842.3400002]\n",
      "[6, 6, 6, 0, 0, 0, 0, 0, 0, 3, 0, 0, 5, 6, 2, 2, 2, 4, 6, 6]\n",
      "[6, 6, 6, 0, 0, 0, 6, 0, 0, 0, 0, 0, 1, 5, 2, 1, 1, 2, 6, 6]\n",
      "[6, 6, 6, 6, 0, 0, 0, 3, 0, 0, 0, 0, 0, 1, 2, 2, 2, 6, 6, 2]\n",
      "[6, 6, 5, 6, 3, 0, 0, 0, 6, 0, 0, 0, 3, 3, 0, 0, 4, 6, 1, 6]\n",
      "[6, 6, 3, 3, 0, 6, 0, 0, 0, 0, 0, 0, 0, 6, 1, 1, 2, 2, 6, 6]\n",
      "[6, 6, 3, 0, 0, 0, 0, 3, 3, 0, 0, 0, 0, 6, 6, 5, 1, 2, 6, 6]\n",
      "[6, 6, 0, 0, 6, 0, 0, 0, 1, 0, 0, 0, 6, 5, 5, 5, 4, 2, 6, 6]\n",
      "[6, 6, 3, 0, 6, 0, 3, 0, 3, 6, 0, 0, 3, 0, 0, 0, 1, 4, 6, 6]\n",
      "[6, 6, 6, 5, 0, 0, 6, 0, 3, 0, 0, 0, 0, 0, 4, 1, 4, 2, 6, 6]\n",
      "best solution 5453138167.78\n"
     ]
    },
    {
     "data": {
      "text/html": [
       "<div>\n",
       "<style>\n",
       "    .dataframe thead tr:only-child th {\n",
       "        text-align: right;\n",
       "    }\n",
       "\n",
       "    .dataframe thead th {\n",
       "        text-align: left;\n",
       "    }\n",
       "\n",
       "    .dataframe tbody tr th {\n",
       "        vertical-align: top;\n",
       "    }\n",
       "</style>\n",
       "<table border=\"1\" class=\"dataframe\">\n",
       "  <thead>\n",
       "    <tr style=\"text-align: right;\">\n",
       "      <th></th>\n",
       "      <th>0</th>\n",
       "      <th>1</th>\n",
       "      <th>2</th>\n",
       "      <th>3</th>\n",
       "      <th>4</th>\n",
       "      <th>5</th>\n",
       "      <th>6</th>\n",
       "    </tr>\n",
       "  </thead>\n",
       "  <tbody>\n",
       "    <tr>\n",
       "      <th>0</th>\n",
       "      <td>8</td>\n",
       "      <td>1</td>\n",
       "      <td>1</td>\n",
       "      <td>1</td>\n",
       "      <td>2</td>\n",
       "      <td>1</td>\n",
       "      <td>6</td>\n",
       "    </tr>\n",
       "  </tbody>\n",
       "</table>\n",
       "</div>"
      ],
      "text/plain": [
       "   0  1  2  3  4  5  6\n",
       "0  8  1  1  1  2  1  6"
      ]
     },
     "execution_count": 61,
     "metadata": {},
     "output_type": "execute_result"
    }
   ],
   "source": [
    "generation = copy.deepcopy(initial_generation[:])\n",
    "for i in range(50):\n",
    "    new_generation = copy.deepcopy(generation)\n",
    "    for j in range(len(new_generation)):\n",
    "        if (len(new_generation[j]) == 2):\n",
    "            new_generation[j] = new_generation[j] + (0,)\n",
    "        else:\n",
    "            new_generation[j] = new_generation[j][:2] + (0,)\n",
    "    new_generation.sort(key=lambda t: t[0]) \n",
    "    childs = []\n",
    "    for g in new_generation:\n",
    "        new_solution = merge_greedly_by_time(copy.deepcopy(g[1]), 20)\n",
    "        childs.append((compute_all_metrics(new_solution), new_solution, 1))\n",
    "    for g in new_generation:\n",
    "        new_solution = merge_max_and_min_charged(copy.deepcopy(g[1]), 20)\n",
    "        childs.append((compute_all_metrics(new_solution), new_solution, 2))    \n",
    "    childs.sort(key=lambda t: t[0]) \n",
    "    \n",
    "    #childs = childs[:generation_size]\n",
    "    \n",
    "    #скрещиваем лучшие 6 решений между собой произвольным образом\n",
    "    for _ in range(6):        \n",
    "        #print(len(random.choice(generation[:6])[1]))\n",
    "        new_solutions = multi_random_point_crossover(random.choice(new_generation[:6])[1],\n",
    "                                                     random.choice(new_generation[:6])[1], \n",
    "                                                     4)\n",
    "        for new_solution in new_solutions:\n",
    "            childs.append((compute_all_metrics(new_solution), new_solution, 3))\n",
    "    childs.sort(key=lambda t: t[0]) \n",
    "        \n",
    "    #берем 6 произвольных решений, выбираем из них лучшее и скрещиваем с 6\n",
    "    #аналогично выбранными решениями\n",
    "    for _ in range(6):      \n",
    "        cand_solutions1 = []\n",
    "        cand_solutions2 = []\n",
    "        for k in range(6):\n",
    "            cand_solutions1.append(random.choice(new_generation))\n",
    "            cand_solutions2.append(random.choice(new_generation))\n",
    "        best_solution1 = max(cand_solutions1, key=lambda x: x[0])[1]\n",
    "        best_solution2 = max(cand_solutions2, key=lambda x: x[0])[1]\n",
    "        new_solutions = multi_random_point_crossover(best_solution1, best_solution2, 4)\n",
    "        for new_solution in new_solutions:\n",
    "            childs.append((compute_all_metrics(new_solution), new_solution, 4))\n",
    "    \n",
    "    #берем 6 произвольных решений, выбираем из них лучшее и скрещиваем с 6\n",
    "    #аналогично выбранными худшими решениями\n",
    "    for _ in range(6):\n",
    "        cand_solutions1 = []\n",
    "        cand_solutions2 = []\n",
    "        for k in range(6):\n",
    "            cand_solutions1.append(random.choice(new_generation))\n",
    "            cand_solutions2.append(random.choice(new_generation))\n",
    "        best_solution1 = max(cand_solutions1, key=lambda x: x[0])[1]\n",
    "        worst_solution2 = min(cand_solutions2, key=lambda x: x[0])[1]\n",
    "        new_solutions = multi_random_point_crossover(best_solution1, worst_solution2, 4)\n",
    "        for new_solution in new_solutions:\n",
    "            childs.append((compute_all_metrics(new_solution), new_solution, 5))\n",
    "    childs.sort(key=lambda t: t[0])\n",
    "    \n",
    "    mutated_solutions = []\n",
    "    #произвольная мутация над 2 лучшими решениями\n",
    "    mutated_solutions.extend(get_random_mutation(copy.deepcopy(new_generation[:2])))\n",
    "    #произвольная мутация над 2 худшими решениями\n",
    "    #mutated_solutions.extend(get_random_mutation(new_generation[-2:]))\n",
    "    #распределяющая мутация над 2 лучшими решениями\n",
    "    mutated_solutions.extend(get_distributing_mutation(copy.deepcopy(new_generation[:2])))\n",
    "    #распределяющая мутация над 2 худшими решениями\n",
    "    mutated_solutions.extend(get_distributing_mutation(copy.deepcopy(new_generation[-2:])))\n",
    "    \n",
    "    generation = new_generation[:generation_size - (int)(generation_size / 3) - 6]    \n",
    "    \n",
    "    #селекция потомков, вероятность выбора которых обратно пропорциональна их метрике\n",
    "    selected_childs = roulete_wheel_selection1(childs, (int)(generation_size / 3))\n",
    "    generation.extend(selected_childs)\n",
    "                \n",
    "    for sol in mutated_solutions:\n",
    "        generation.append(sol + (6,))\n",
    "                \n",
    "    generation.sort(key=lambda t: t[0])\n",
    "    \n",
    "    childs_count = np.array([[0, 0, 0, 0, 0, 0, 0]])\n",
    "    for sol in generation:\n",
    "        if sol[2] == 0:\n",
    "            childs_count[0][0] += 1\n",
    "        elif sol[2] == 1:\n",
    "            childs_count[0][1] += 1\n",
    "        elif sol[2] == 2:\n",
    "            childs_count[0][2]+=1\n",
    "        elif sol[2] == 3:\n",
    "            childs_count[0][3]+=1\n",
    "        elif sol[2] == 4:\n",
    "            childs_count[0][4]+=1\n",
    "        elif sol[2] == 5:\n",
    "            childs_count[0][5]+=1\n",
    "        else:\n",
    "            childs_count[0][6]+=1\n",
    "    tb = pd.DataFrame(childs_count, columns = ['0', '1', '2', '3', '4', '5', '6'])\n",
    "    #display(tb)\n",
    "    print([x[2] for x in generation[:20]])\n",
    "    if i % 10 == 0:\n",
    "        print([s[0] for s in generation][:5])\n",
    "child_selection_metric1 = generation[0][0]\n",
    "print('best solution', child_selection_metric1)\n",
    "labeled_res[8] = child_selection_metric1\n",
    "tb.head(20)"
   ]
  },
  {
   "cell_type": "code",
   "execution_count": 62,
   "metadata": {},
   "outputs": [
    {
     "name": "stdout",
     "output_type": "stream",
     "text": [
      "error = False\n",
      "5453138167.78\n",
      "5453138167.78\n"
     ]
    }
   ],
   "source": [
    "is_error = False\n",
    "for sol in generation:\n",
    "    if sol[0] != compute_all_metrics(sol[1]):\n",
    "        is_error = True\n",
    "print('error =', is_error)\n",
    "sol1 = generation[0]\n",
    "print(sol1[0])\n",
    "print(compute_all_metrics(sol1[1]))"
   ]
  },
  {
   "cell_type": "code",
   "execution_count": 63,
   "metadata": {},
   "outputs": [
    {
     "name": "stdout",
     "output_type": "stream",
     "text": [
      "0 15375324356.6\n",
      "1 4803355451.4\n",
      "2 8643682071.86\n",
      "3 3208763123.02\n",
      "4 3519173551.1\n",
      "5 3978039006.72\n",
      "6 3197990013.22\n",
      "7 3274088830.24\n",
      "8 5453138167.78\n",
      "result became better = False\n"
     ]
    }
   ],
   "source": [
    "for key, value in labeled_res.items():\n",
    "    print(key, value)\n",
    "if min(labeled_res, key=labeled_res.get) == 8:\n",
    "    print('result became better =', True)\n",
    "    best_generation = generation\n",
    "else:\n",
    "    print('result became better =', False)"
   ]
  },
  {
   "cell_type": "markdown",
   "metadata": {},
   "source": [
    "Селекция потомков, имеющих наименьшее значение метрики приносит лучшие результаты"
   ]
  },
  {
   "cell_type": "code",
   "execution_count": 70,
   "metadata": {},
   "outputs": [
    {
     "name": "stdout",
     "output_type": "stream",
     "text": [
      "[12194629510.02, 12270014731.300001, 12465030820.1, 12521524297.559999, 13077169246.16]\n",
      "[4774564363.7600002, 5277417702.04, 5325802073.8199997, 5393250856.3599997, 5399109804.1400003]\n",
      "[3394771116.2200003, 3403415866.5999999, 3415276917.54, 3426683820.2200003, 3433308014.5999999]\n",
      "[2704830566.6799998, 2727374626.5599999, 2730056377.4400001, 2731590816.4400001, 2733238076.6799998]\n",
      "[2459191059.5799999, 2460869437.5799999, 2469615638.1399999, 2471392424.2000003, 2480909719.3600001]\n",
      "best solution 2244374983.82\n"
     ]
    },
    {
     "data": {
      "text/html": [
       "<div>\n",
       "<style>\n",
       "    .dataframe thead tr:only-child th {\n",
       "        text-align: right;\n",
       "    }\n",
       "\n",
       "    .dataframe thead th {\n",
       "        text-align: left;\n",
       "    }\n",
       "\n",
       "    .dataframe tbody tr th {\n",
       "        vertical-align: top;\n",
       "    }\n",
       "</style>\n",
       "<table border=\"1\" class=\"dataframe\">\n",
       "  <thead>\n",
       "    <tr style=\"text-align: right;\">\n",
       "      <th></th>\n",
       "      <th>0</th>\n",
       "      <th>1</th>\n",
       "      <th>2</th>\n",
       "      <th>3</th>\n",
       "      <th>4</th>\n",
       "      <th>5</th>\n",
       "      <th>6</th>\n",
       "    </tr>\n",
       "  </thead>\n",
       "  <tbody>\n",
       "    <tr>\n",
       "      <th>0</th>\n",
       "      <td>9</td>\n",
       "      <td>0</td>\n",
       "      <td>0</td>\n",
       "      <td>4</td>\n",
       "      <td>0</td>\n",
       "      <td>1</td>\n",
       "      <td>6</td>\n",
       "    </tr>\n",
       "  </tbody>\n",
       "</table>\n",
       "</div>"
      ],
      "text/plain": [
       "   0  1  2  3  4  5  6\n",
       "0  9  0  0  4  0  1  6"
      ]
     },
     "execution_count": 70,
     "metadata": {},
     "output_type": "execute_result"
    }
   ],
   "source": [
    "generation = copy.deepcopy(initial_generation[:])\n",
    "for i in range(50):\n",
    "    new_generation = copy.deepcopy(generation)\n",
    "    for j in range(len(new_generation)):\n",
    "        if (len(new_generation[j]) == 2):\n",
    "            new_generation[j] = new_generation[j] + (0,)\n",
    "        else:\n",
    "            new_generation[j] = new_generation[j][:2] + (0,)\n",
    "    new_generation.sort(key=lambda t: t[0]) \n",
    "    childs = []\n",
    "    for g in new_generation:\n",
    "        new_solution = merge_greedly_by_time(copy.deepcopy(g[1]), 20)\n",
    "        childs.append((compute_all_metrics(new_solution), new_solution, 1))\n",
    "    for g in new_generation:\n",
    "        new_solution = merge_max_and_min_charged(copy.deepcopy(g[1]), 20)\n",
    "        childs.append((compute_all_metrics(new_solution), new_solution, 2))    \n",
    "    childs.sort(key=lambda t: t[0]) \n",
    "        \n",
    "    #скрещиваем лучшие 6 решений между собой произвольным образом\n",
    "    for _ in range(6):        \n",
    "        #print(len(random.choice(generation[:6])[1]))\n",
    "        new_solutions = multi_random_point_crossover(random.choice(new_generation[:6])[1],\n",
    "                                                     random.choice(new_generation[:6])[1], \n",
    "                                                     4)\n",
    "        for new_solution in new_solutions:\n",
    "            childs.append((compute_all_metrics(new_solution), new_solution, 3))\n",
    "    childs.sort(key=lambda t: t[0]) \n",
    "        \n",
    "    #берем 6 произвольных решений, выбираем из них лучшее и скрещиваем с 6\n",
    "    #аналогично выбранными решениями\n",
    "    for _ in range(6):      \n",
    "        cand_solutions1 = []\n",
    "        cand_solutions2 = []\n",
    "        for k in range(6):\n",
    "            cand_solutions1.append(random.choice(new_generation))\n",
    "            cand_solutions2.append(random.choice(new_generation))\n",
    "        best_solution1 = max(cand_solutions1, key=lambda x: x[0])[1]\n",
    "        best_solution2 = max(cand_solutions2, key=lambda x: x[0])[1]\n",
    "        new_solutions = multi_random_point_crossover(best_solution1, best_solution2, 4)\n",
    "        for new_solution in new_solutions:\n",
    "            childs.append((compute_all_metrics(new_solution), new_solution, 4))\n",
    "    \n",
    "    #берем 6 произвольных решений, выбираем из них лучшее и скрещиваем с 6\n",
    "    #аналогично выбранными худшими решениями\n",
    "    for _ in range(6):\n",
    "        cand_solutions1 = []\n",
    "        cand_solutions2 = []\n",
    "        for k in range(6):\n",
    "            cand_solutions1.append(random.choice(new_generation))\n",
    "            cand_solutions2.append(random.choice(new_generation))\n",
    "        best_solution1 = max(cand_solutions1, key=lambda x: x[0])[1]\n",
    "        worst_solution2 = min(cand_solutions2, key=lambda x: x[0])[1]\n",
    "        new_solutions = multi_random_point_crossover(best_solution1, worst_solution2, 4)\n",
    "        for new_solution in new_solutions:\n",
    "            childs.append((compute_all_metrics(new_solution), new_solution, 5))\n",
    "    childs.sort(key=lambda t: t[0])\n",
    "    \n",
    "    mutated_solutions = []\n",
    "    #произвольная мутация над 2 лучшими решениями\n",
    "    mutated_solutions.extend(get_random_mutation(copy.deepcopy(new_generation[:2])))\n",
    "    #произвольная мутация над 2 худшими решениями\n",
    "    #mutated_solutions.extend(get_random_mutation(new_generation[-2:]))\n",
    "    #распределяющая мутация над 2 лучшими решениями\n",
    "    mutated_solutions.extend(get_distributing_mutation(copy.deepcopy(new_generation[:2])))\n",
    "    #распределяющая мутация над 2 худшими решениями\n",
    "    mutated_solutions.extend(get_distributing_mutation(copy.deepcopy(new_generation[-2:])))\n",
    "    \n",
    "    generation = new_generation[:generation_size - (int)(generation_size / 4) - 6]    \n",
    "    \n",
    "    generation.extend(childs[:(int)(generation_size / 4)])\n",
    "                \n",
    "    for sol in mutated_solutions:\n",
    "        generation.append(sol + (6,))\n",
    "                \n",
    "    generation.sort(key=lambda t: t[0])\n",
    "    \n",
    "    childs_count = np.array([[0, 0, 0, 0, 0, 0, 0]])\n",
    "    for sol in generation:\n",
    "        if sol[2] == 0:\n",
    "            childs_count[0][0] += 1\n",
    "        elif sol[2] == 1:\n",
    "            childs_count[0][1] += 1\n",
    "        elif sol[2] == 2:\n",
    "            childs_count[0][2]+=1\n",
    "        elif sol[2] == 3:\n",
    "            childs_count[0][3]+=1\n",
    "        elif sol[2] == 4:\n",
    "            childs_count[0][4]+=1\n",
    "        elif sol[2] == 5:\n",
    "            childs_count[0][5]+=1\n",
    "        else:\n",
    "            childs_count[0][6]+=1\n",
    "    tb = pd.DataFrame(childs_count, columns = ['0', '1', '2', '3', '4', '5', '6'])\n",
    "    #display(tb)\n",
    "    #print([x[2] for x in generation[:20]])\n",
    "    if i % 10 == 0:\n",
    "        print([s[0] for s in generation][:5])\n",
    "child_selection_metric1 = generation[0][0]\n",
    "print('best solution', child_selection_metric1)\n",
    "labeled_res[9] = child_selection_metric1\n",
    "tb.head(20)"
   ]
  },
  {
   "cell_type": "code",
   "execution_count": 71,
   "metadata": {},
   "outputs": [
    {
     "name": "stdout",
     "output_type": "stream",
     "text": [
      "error = False\n",
      "2244374983.82\n",
      "2244374983.82\n"
     ]
    }
   ],
   "source": [
    "is_error = False\n",
    "for sol in generation:\n",
    "    if sol[0] != compute_all_metrics(sol[1]):\n",
    "        is_error = True\n",
    "print('error =', is_error)\n",
    "sol1 = generation[0]\n",
    "print(sol1[0])\n",
    "print(compute_all_metrics(sol1[1]))"
   ]
  },
  {
   "cell_type": "code",
   "execution_count": 72,
   "metadata": {},
   "outputs": [
    {
     "name": "stdout",
     "output_type": "stream",
     "text": [
      "0 15375324356.6\n",
      "1 4803355451.4\n",
      "2 8643682071.86\n",
      "3 3208763123.02\n",
      "4 3519173551.1\n",
      "5 3978039006.72\n",
      "6 3197990013.22\n",
      "7 3274088830.24\n",
      "8 5453138167.78\n",
      "9 2244374983.82\n",
      "result became better = True\n"
     ]
    }
   ],
   "source": [
    "for key, value in labeled_res.items():\n",
    "    print(key, value)\n",
    "if min(labeled_res, key=labeled_res.get) == 9:\n",
    "    print('result became better =', True)\n",
    "    best_generation = generation\n",
    "else:\n",
    "    print('result became better =', False)"
   ]
  },
  {
   "cell_type": "markdown",
   "metadata": {},
   "source": [
    "---"
   ]
  },
  {
   "cell_type": "markdown",
   "metadata": {},
   "source": [
    "#### Сохранение распределения"
   ]
  },
  {
   "cell_type": "code",
   "execution_count": 73,
   "metadata": {
    "collapsed": true
   },
   "outputs": [],
   "source": [
    "def save_solution(file_name, solution):\n",
    "    data = []\n",
    "    for agent in solution:\n",
    "        for act in solution[agent]:\n",
    "            data.append([agent, act])\n",
    "    pd.DataFrame(data, columns=['agent_id', 'act_id']).to_csv(file_name, index=False)"
   ]
  },
  {
   "cell_type": "code",
   "execution_count": 74,
   "metadata": {
    "collapsed": true
   },
   "outputs": [],
   "source": [
    "save_solution('res.csv', best_generation[0][1])"
   ]
  },
  {
   "cell_type": "code",
   "execution_count": null,
   "metadata": {
    "collapsed": true
   },
   "outputs": [],
   "source": []
  }
 ],
 "metadata": {
  "kernelspec": {
   "display_name": "Python 2",
   "language": "python",
   "name": "python2"
  },
  "language_info": {
   "codemirror_mode": {
    "name": "ipython",
    "version": 2
   },
   "file_extension": ".py",
   "mimetype": "text/x-python",
   "name": "python",
   "nbconvert_exporter": "python",
   "pygments_lexer": "ipython2",
   "version": "2.7.14"
  }
 },
 "nbformat": 4,
 "nbformat_minor": 2
}
